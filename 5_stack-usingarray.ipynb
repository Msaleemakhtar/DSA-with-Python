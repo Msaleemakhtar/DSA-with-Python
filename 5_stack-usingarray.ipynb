{
 "cells": [
  {
   "cell_type": "markdown",
   "metadata": {},
   "source": [
    "## Stack using Array"
   ]
  },
  {
   "cell_type": "code",
   "execution_count": 122,
   "metadata": {},
   "outputs": [],
   "source": [
    "class Stack:\n",
    "    def __init__(self, value) -> None:\n",
    "        self.size = value\n",
    "        self._stack = [None]* self.size\n",
    "        self.top = -1\n",
    "\n",
    "    def push(self, value):\n",
    "        if self.top == self.size-1:\n",
    "            return \"Stack is Overflow\"\n",
    "        else:\n",
    "            self.top+=1\n",
    "            self._stack[self.top] = value\n",
    "\n",
    "\n",
    "    def pop(self):\n",
    "        if self.top == -1:\n",
    "            return \"Stack is Empty\"\n",
    "        else:\n",
    "            value = self._stack[self.top]\n",
    "            self.top = self.top - 1\n",
    "            return value\n",
    "        \n",
    "\n",
    "    def traverse(self):\n",
    "\n",
    "        for i in range(self.top + 1):\n",
    "            print(self._stack[i], end= '')\n"
   ]
  },
  {
   "cell_type": "code",
   "execution_count": 123,
   "metadata": {},
   "outputs": [],
   "source": [
    "a = Stack(5)\n"
   ]
  },
  {
   "cell_type": "code",
   "execution_count": 124,
   "metadata": {},
   "outputs": [],
   "source": [
    "a.push(1)\n",
    "a.push(2)\n",
    "a.push(3)\n",
    "a.push(4)\n",
    "a.push(5)\n"
   ]
  },
  {
   "cell_type": "code",
   "execution_count": 127,
   "metadata": {},
   "outputs": [
    {
     "data": {
      "text/plain": [
       "5"
      ]
     },
     "execution_count": 127,
     "metadata": {},
     "output_type": "execute_result"
    }
   ],
   "source": [
    "a.pop()"
   ]
  },
  {
   "cell_type": "code",
   "execution_count": 128,
   "metadata": {},
   "outputs": [
    {
     "name": "stdout",
     "output_type": "stream",
     "text": [
      "1\n",
      "2\n",
      "3\n",
      "4\n"
     ]
    }
   ],
   "source": [
    "a.traverse()"
   ]
  }
 ],
 "metadata": {
  "kernelspec": {
   "display_name": "sql",
   "language": "python",
   "name": "python3"
  },
  "language_info": {
   "codemirror_mode": {
    "name": "ipython",
    "version": 3
   },
   "file_extension": ".py",
   "mimetype": "text/x-python",
   "name": "python",
   "nbconvert_exporter": "python",
   "pygments_lexer": "ipython3",
   "version": "3.12.0"
  }
 },
 "nbformat": 4,
 "nbformat_minor": 2
}
