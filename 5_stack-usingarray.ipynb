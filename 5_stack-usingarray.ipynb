{
 "cells": [
  {
   "cell_type": "markdown",
   "metadata": {},
   "source": [
    "## Stack using Array"
   ]
  },
  {
   "cell_type": "code",
   "execution_count": 122,
   "metadata": {},
   "outputs": [],
   "source": [
    "class Stack:\n",
    "    def __init__(self, value) -> None:\n",
    "        self.size = value\n",
    "        self._stack = [None]* self.size\n",
    "        self.top = -1\n",
    "\n",
    "    def push(self, value):\n",
    "        if self.top == self.size-1:\n",
    "            return \"Stack is Overflow\"\n",
    "        else:\n",
    "            self.top+=1\n",
    "            self._stack[self.top] = value\n",
    "\n",
    "\n",
    "    def pop(self):\n",
    "        if self.top == -1:\n",
    "            return \"Stack is Empty\"\n",
    "        else:\n",
    "            value = self._stack[self.top]\n",
    "            self.top = self.top - 1\n",
    "            return value\n",
    "        \n",
    "\n",
    "    def traverse(self):\n",
    "\n",
    "        for i in range(self.top + 1):\n",
    "            print(self._stack[i], end= '')\n"
   ]
  },
  {
   "cell_type": "code",
   "execution_count": 123,
   "metadata": {},
   "outputs": [],
   "source": [
    "a = Stack(5)\n"
   ]
  },
  {
   "cell_type": "code",
   "execution_count": 124,
   "metadata": {},
   "outputs": [],
   "source": [
    "a.push(1)\n",
    "a.push(2)\n",
    "a.push(3)\n",
    "a.push(4)\n",
    "a.push(5)\n"
   ]
  },
  {
   "cell_type": "code",
   "execution_count": 127,
   "metadata": {},
   "outputs": [
    {
     "data": {
      "text/plain": [
       "5"
      ]
     },
     "execution_count": 127,
     "metadata": {},
     "output_type": "execute_result"
    }
   ],
   "source": [
    "a.pop()"
   ]
  },
  {
   "cell_type": "code",
   "execution_count": 128,
   "metadata": {},
   "outputs": [
    {
     "name": "stdout",
     "output_type": "stream",
     "text": [
      "1\n",
      "2\n",
      "3\n",
      "4\n"
     ]
    }
   ],
   "source": [
    "a.traverse()"
   ]
  },
  {
   "cell_type": "code",
   "execution_count": null,
   "metadata": {},
   "outputs": [],
   "source": [
    "class Stack:\n",
    "    \"\"\"\n",
    "    Implementation of a simple stack data structure.\n",
    "    \"\"\"\n",
    "\n",
    "    def __init__(self, value) -> None:\n",
    "        \"\"\"\n",
    "        Initializes a new stack with a given size.\n",
    "\n",
    "        Parameters:\n",
    "        - value (int): The size of the stack.\n",
    "        \"\"\"\n",
    "        # Initialize the size of the stack and create an array to represent the stack.\n",
    "        self.size = value\n",
    "        self._stack = [None] * self.size\n",
    "        # Initialize the top index to -1 to signify an empty stack.\n",
    "        self.top = -1\n",
    "\n",
    "    def push(self, value):\n",
    "        \"\"\"\n",
    "        Pushes a value onto the stack.\n",
    "\n",
    "        Parameters:\n",
    "        - value: The value to be pushed onto the stack.\n",
    "\n",
    "        Returns:\n",
    "        - str: If the stack is full, returns \"Stack is Overflow\".\n",
    "        \"\"\"\n",
    "        # Check if the stack is full before pushing a value.\n",
    "        if self.top == self.size - 1:\n",
    "            return \"Stack is Overflow\"\n",
    "        else:\n",
    "            # Increment the top index and add the value to the stack.\n",
    "            self.top += 1\n",
    "            self._stack[self.top] = value\n",
    "\n",
    "    def pop(self):\n",
    "        \"\"\"\n",
    "        Pops the top value from the stack.\n",
    "\n",
    "        Returns:\n",
    "        - str: If the stack is empty, returns \"Stack is Empty\".\n",
    "        - Any: The popped value from the stack.\n",
    "        \"\"\"\n",
    "        # Check if the stack is empty before popping a value.\n",
    "        if self.top == -1:\n",
    "            return \"Stack is Empty\"\n",
    "        else:\n",
    "            # Retrieve the value from the top of the stack, decrement the top index.\n",
    "            value = self._stack[self.top]\n",
    "            self.top = self.top - 1\n",
    "            return value\n",
    "\n",
    "    def traverse(self):\n",
    "        \"\"\"\n",
    "        Traverses and prints the elements of the stack.\n",
    "        \"\"\"\n",
    "        # Iterate through the stack and print each element.\n",
    "        for i in range(self.top + 1):\n",
    "            print(self._stack[i], end='')\n"
   ]
  }
 ],
 "metadata": {
  "kernelspec": {
   "display_name": "sql",
   "language": "python",
   "name": "python3"
  },
  "language_info": {
   "codemirror_mode": {
    "name": "ipython",
    "version": 3
   },
   "file_extension": ".py",
   "mimetype": "text/x-python",
   "name": "python",
   "nbconvert_exporter": "python",
   "pygments_lexer": "ipython3",
   "version": "3.12.0"
  }
 },
 "nbformat": 4,
 "nbformat_minor": 2
}
