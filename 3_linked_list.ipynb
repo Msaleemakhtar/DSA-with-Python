{
 "cells": [
  {
   "cell_type": "markdown",
   "metadata": {},
   "source": [
    "## Linked List"
   ]
  },
  {
   "cell_type": "code",
   "execution_count": 1,
   "metadata": {},
   "outputs": [],
   "source": [
    "# created single node \n",
    "\n",
    "class Node:\n",
    "    def __init__(self, value):\n",
    "        self.data = value\n",
    "        self.next = None\n",
    "    "
   ]
  },
  {
   "cell_type": "code",
   "execution_count": 2,
   "metadata": {},
   "outputs": [],
   "source": [
    "a = Node(1)\n",
    "b = Node(3)\n",
    "c = Node(6)"
   ]
  },
  {
   "cell_type": "code",
   "execution_count": 7,
   "metadata": {},
   "outputs": [
    {
     "name": "stdout",
     "output_type": "stream",
     "text": [
      "<__main__.Node object at 0x7fdcc0340830>\n",
      "1\n",
      "None\n"
     ]
    }
   ],
   "source": [
    "print(a)\n",
    "print(a.data)\n",
    "print(a.next)"
   ]
  },
  {
   "cell_type": "code",
   "execution_count": 9,
   "metadata": {},
   "outputs": [],
   "source": [
    "# created the manual linked list\n",
    "a.next = b\n",
    "b.next = c"
   ]
  },
  {
   "cell_type": "code",
   "execution_count": 21,
   "metadata": {},
   "outputs": [
    {
     "name": "stdout",
     "output_type": "stream",
     "text": [
      "<__main__.Node object at 0x7fdcc03400e0>\n"
     ]
    }
   ],
   "source": [
    "print(a.next)\n"
   ]
  },
  {
   "cell_type": "code",
   "execution_count": 23,
   "metadata": {},
   "outputs": [
    {
     "data": {
      "text/plain": [
       "140586094166240"
      ]
     },
     "execution_count": 23,
     "metadata": {},
     "output_type": "execute_result"
    }
   ],
   "source": [
    "int( 0x7fdcc03400e0)"
   ]
  },
  {
   "cell_type": "code",
   "execution_count": 24,
   "metadata": {},
   "outputs": [
    {
     "name": "stdout",
     "output_type": "stream",
     "text": [
      "<__main__.Node object at 0x7fdcc0340c50>\n"
     ]
    }
   ],
   "source": [
    "print(b.next)"
   ]
  },
  {
   "cell_type": "code",
   "execution_count": 25,
   "metadata": {},
   "outputs": [
    {
     "data": {
      "text/plain": [
       "140586094169168"
      ]
     },
     "execution_count": 25,
     "metadata": {},
     "output_type": "execute_result"
    }
   ],
   "source": [
    "int( 0x7fdcc0340c50)"
   ]
  },
  {
   "cell_type": "code",
   "execution_count": 26,
   "metadata": {},
   "outputs": [
    {
     "name": "stdout",
     "output_type": "stream",
     "text": [
      "None\n"
     ]
    }
   ],
   "source": [
    "print(c.next)"
   ]
  },
  {
   "cell_type": "markdown",
   "metadata": {},
   "source": [
    "----------------------------------------------"
   ]
  },
  {
   "cell_type": "markdown",
   "metadata": {},
   "source": [
    "### There are main four operation of LL\n",
    "\n",
    "* Insert \n",
    "\n",
    "        . insert from head\n",
    "\n",
    "        . insert from tail(append in array)\n",
    "\n",
    "        . insert in middile(insert in array)\n",
    "\n",
    "       \n",
    "\n",
    "* Traverse \n",
    "\n",
    "        . print\n",
    "\n",
    "        \n",
    "\n",
    "* Delete \n",
    "\n",
    "        . head\n",
    "\n",
    "        . tail(pop in array)\n",
    "\n",
    "        . value(remove in array)\n",
    "    \n",
    "        . index\n",
    "\n",
    "        \n",
    "\n",
    "* Search\n",
    "\n",
    "        . value \n",
    "\n",
    "        . index"
   ]
  },
  {
   "cell_type": "code",
   "execution_count": 4,
   "metadata": {},
   "outputs": [],
   "source": [
    "# created single node \n",
    "\n",
    "class Node:\n",
    "    def __init__(self, value):\n",
    "        self.data = value\n",
    "        self.next = None"
   ]
  },
  {
   "cell_type": "code",
   "execution_count": 97,
   "metadata": {},
   "outputs": [],
   "source": [
    "class LinkedList:\n",
    "    def __init__(self) -> None:\n",
    "        # initialized empty linkedlist\n",
    "        self.head = None\n",
    "        # no of nodes\n",
    "        self.n = 0\n",
    "\n",
    "    def __len__(self):\n",
    "        return self.n\n",
    "    \n",
    "    # print the ll \n",
    "    def __str__(self):\n",
    "        current = self.head\n",
    "        result = \"\"\n",
    "        while current != None:\n",
    "            result = result + str(current.data) + \"-->\"\n",
    "            current = current.next\n",
    "            \n",
    "\n",
    "        return result[:-3]\n",
    "        \n",
    "    # insert from head \n",
    "    def insert_head(self, value):\n",
    "        # created new node\n",
    "        new_node = Node(value)\n",
    "        #create connection\n",
    "        new_node.next = self.head\n",
    "        # reassign\n",
    "        self.head = new_node\n",
    "        #increament n\n",
    "        self.n = self.n + 1\n",
    "\n",
    "    # inseart from tail\n",
    "    def append(self, value):\n",
    "        new_node = Node(value)\n",
    "        if self.head == None:\n",
    "            self.head = new_node\n",
    "            self.n = self.n + 1\n",
    "            return\n",
    "\n",
    "        current = self.head\n",
    "        while current.next != None:\n",
    "            current = current.next\n",
    "\n",
    "        current.next = new_node\n",
    "        self.n = self.n + 1\n",
    "\n",
    "    # insert in between the linked list   \n",
    "    def insert_after(self, after, value):\n",
    "        new_node = Node(value)\n",
    "\n",
    "        current = self.head\n",
    "        while current != None:\n",
    "            if current.data == after:\n",
    "                break\n",
    "            current =current.next\n",
    "        \n",
    "        if current != None:\n",
    "            new_node.next = current.next\n",
    "            current.next = new_node\n",
    "            self.n = self.n + 1\n",
    "        else: \n",
    "            return \"Node not found\"\n",
    "        \n",
    "    # clear the link list\n",
    "    def clear(self):\n",
    "        self.head = None\n",
    "        self.n = 0\n",
    "\n",
    "\n",
    "    # delete from head  \n",
    "    def delete_head(self):\n",
    "        if self.head == None:\n",
    "            return \"Linked List is Empty\"\n",
    "        self.head = self.head.next\n",
    "        self.n = self.n - 1\n",
    "\n",
    "    # delete from tail\n",
    "    def pop(self):\n",
    "        # if empty ll\n",
    "        if self.head == None:\n",
    "            return \"Empty LL\"\n",
    "        \n",
    "        current = self.head\n",
    "        # if only one item in ll and that is head\n",
    "        if current.next == None:\n",
    "            return self.delete_head()\n",
    "        # otherwise\n",
    "        while current.next.next != None:\n",
    "            current = current.next\n",
    "        # cuurrnt --> 2nd last node\n",
    "        current.next = None\n",
    "        self.n = self.n - 1\n",
    "\n",
    "    #delete from value\n",
    "    def remove(self, value):\n",
    "        \n",
    "        if self.head == None:\n",
    "            return \"LL Empty\"\n",
    "\n",
    "        if self.head.data == value:\n",
    "            return self.delete_head()\n",
    "\n",
    "        current = self.head\n",
    "        \n",
    "        while current.next != None:\n",
    "            if current.next.data == value:\n",
    "                break\n",
    "            current= current.next\n",
    "        \n",
    "        if current.next == None:\n",
    "            return \"Value not Found\"\n",
    "        else:\n",
    "            current.next = current.next.next\n",
    "            \n",
    "    # search the index/position of elements in Linked List\n",
    "    def search(self, value):\n",
    "        current = self.head\n",
    "        pos = 0\n",
    "\n",
    "        while current != None:\n",
    "            if current.data == value:\n",
    "                return pos\n",
    "            current = current.next\n",
    "            pos = pos + 1\n",
    "\n",
    "        return \"Out of range\"\n",
    "\n",
    "        "
   ]
  },
  {
   "cell_type": "code",
   "execution_count": 99,
   "metadata": {},
   "outputs": [],
   "source": [
    "a = LinkedList()\n",
    "a.insert_head(1)\n",
    "a.insert_head(8)\n",
    "a.insert_head(88)\n",
    "a.insert_head(87)"
   ]
  },
  {
   "cell_type": "code",
   "execution_count": 100,
   "metadata": {},
   "outputs": [
    {
     "name": "stdout",
     "output_type": "stream",
     "text": [
      "87-->88-->8-->1\n"
     ]
    }
   ],
   "source": [
    "print(a)"
   ]
  },
  {
   "cell_type": "code",
   "execution_count": 101,
   "metadata": {},
   "outputs": [
    {
     "data": {
      "text/plain": [
       "'Out of range'"
      ]
     },
     "execution_count": 101,
     "metadata": {},
     "output_type": "execute_result"
    }
   ],
   "source": [
    "a.search(899)"
   ]
  }
 ],
 "metadata": {
  "kernelspec": {
   "display_name": "sql",
   "language": "python",
   "name": "python3"
  },
  "language_info": {
   "codemirror_mode": {
    "name": "ipython",
    "version": 3
   },
   "file_extension": ".py",
   "mimetype": "text/x-python",
   "name": "python",
   "nbconvert_exporter": "python",
   "pygments_lexer": "ipython3",
   "version": "3.12.0"
  }
 },
 "nbformat": 4,
 "nbformat_minor": 2
}
