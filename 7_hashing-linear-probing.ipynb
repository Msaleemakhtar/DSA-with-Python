{
 "cells": [
  {
   "cell_type": "markdown",
   "metadata": {},
   "source": [
    "## Hashing-Linear-Probing in Python DSA"
   ]
  },
  {
   "cell_type": "code",
   "execution_count": 103,
   "metadata": {},
   "outputs": [],
   "source": [
    "class Dictionary:\n",
    "    def __init__(self, size) -> None:\n",
    "\n",
    "        # Two arrays (one for key and one for values) will be used for dictionary\n",
    "        self.size = size # size of the array\n",
    "        self.slots = [None] * self.size # this is an array for storing  keys\n",
    "        self.data = [None] * self.size # this is an array for storing values/data\n",
    "\n",
    "    # To insert key and values in dictionary\n",
    "    def put(self, key, value):\n",
    "        # return the index \n",
    "        hash_value = self.hash_function(key)\n",
    "        # if the position of slot is empty\n",
    "        if self.slots[hash_value] == None:\n",
    "            self.slots[hash_value] = key\n",
    "            self.data[hash_value]  = value\n",
    "\n",
    "        else:\n",
    "            # there are may exist two cases, \n",
    "            # 1st case: if same key already exist on the same index , only update the the value\n",
    "            if self.slots[hash_value]  == key:\n",
    "                # key exist , only update the corresponding value\n",
    "                self.data[hash_value] = value\n",
    "            \n",
    "            # 2nd Case : different key & value exist and start linear probing\n",
    "            else: \n",
    "                # calculate the new hash to move on next position\n",
    "                new_hash = self.rehash(hash_value)\n",
    "                # again two case , either next position is empty or not empty\n",
    "                while self.slots[new_hash] != None and self.slots[new_hash] != key:\n",
    "                    new_hash = self.rehash(hash_value)\n",
    "\n",
    "                if self.slots[new_hash] == None:\n",
    "                    self.slots[new_hash] = key\n",
    "                    self.data[new_hash] = value\n",
    "                else:\n",
    "                    \n",
    "                    self.data[new_hash] = value\n",
    "\n",
    "    \n",
    "    # Calculate the rehash in 2nd case for linear probing\n",
    "    def rehash(self, old_hash):\n",
    "        return (old_hash +1) % self.size    \n",
    "\n",
    "    # Calculate the hash to insert keys into the indexs of slot array and values into data array\n",
    "    def hash_function(self, key):\n",
    "        return abs(hash(key)) % self.size # used absolute function to get the positive value\n",
    "    \n",
    "    # Magic method __setitem__ is used for [] notation\n",
    "    def __setitem__(self, key, value):\n",
    "        return self.put(key, value)\n",
    "    \n",
    "\n",
    "    # to fetch value from dictionary by passing key\n",
    "    def get(self, key):\n",
    "        start_position = self.hash_function(key)\n",
    "        current_position = start_position\n",
    "\n",
    "        while self.slots[current_position] != None:\n",
    "\n",
    "            if self.slots[current_position] == key:\n",
    "                return self.data[current_position]\n",
    "            \n",
    "            current_position = self.rehash(current_position)\n",
    "\n",
    "            if current_position == start_position:\n",
    "                return \"Not found: in case on the same position\"\n",
    "            \n",
    "        return \"Not found: In case of None\"\n",
    "    \n",
    "\n",
    "    # set the [] notation for get function\n",
    "    def __getitem__(self, key):\n",
    "        return self.get(key)\n",
    "    \n",
    "\n",
    "    # print the dictionary\n",
    "\n",
    "    def __str__(self) -> str:\n",
    "        for i in range(len(self.slots)):\n",
    "            if self.slots[i] != None:\n",
    "                print(self.slots[i] , \":\" , self.data[i], end= '')\n",
    "        return \"\"\n",
    "\n",
    "\n"
   ]
  },
  {
   "cell_type": "code",
   "execution_count": 104,
   "metadata": {},
   "outputs": [],
   "source": [
    "d1 = Dictionary(3)"
   ]
  },
  {
   "cell_type": "code",
   "execution_count": 110,
   "metadata": {},
   "outputs": [
    {
     "name": "stdout",
     "output_type": "stream",
     "text": [
      "['aa', 'dd', 'h']\n",
      "[17, 17, 17]\n"
     ]
    }
   ],
   "source": [
    "print(d1.slots)\n",
    "print(d1.data)"
   ]
  },
  {
   "cell_type": "code",
   "execution_count": 109,
   "metadata": {},
   "outputs": [],
   "source": [
    "\n",
    "d1[\"dd\"] =17"
   ]
  },
  {
   "cell_type": "code",
   "execution_count": 111,
   "metadata": {},
   "outputs": [
    {
     "name": "stdout",
     "output_type": "stream",
     "text": [
      "aa : 17\n",
      "dd : 17\n",
      "h : 17\n",
      "\n"
     ]
    }
   ],
   "source": [
    "print(d1)"
   ]
  },
  {
   "cell_type": "code",
   "execution_count": 1,
   "metadata": {},
   "outputs": [
    {
     "data": {
      "text/plain": [
       "123"
      ]
     },
     "execution_count": 1,
     "metadata": {},
     "output_type": "execute_result"
    }
   ],
   "source": [
    "\n",
    "# python hash function will return the same integer but compute hash for string and float\n",
    "\n",
    "hash(123)"
   ]
  },
  {
   "cell_type": "code",
   "execution_count": 4,
   "metadata": {},
   "outputs": [
    {
     "data": {
      "text/plain": [
       "1315139483243455940"
      ]
     },
     "execution_count": 4,
     "metadata": {},
     "output_type": "execute_result"
    }
   ],
   "source": [
    "hash(\"python\")"
   ]
  },
  {
   "cell_type": "code",
   "execution_count": 5,
   "metadata": {},
   "outputs": [
    {
     "data": {
      "text/plain": [
       "461168601842738689"
      ]
     },
     "execution_count": 5,
     "metadata": {},
     "output_type": "execute_result"
    }
   ],
   "source": [
    "hash(1.2)"
   ]
  },
  {
   "cell_type": "code",
   "execution_count": 6,
   "metadata": {},
   "outputs": [
    {
     "ename": "TypeError",
     "evalue": "unhashable type: 'list'",
     "output_type": "error",
     "traceback": [
      "\u001b[0;31m---------------------------------------------------------------------------\u001b[0m",
      "\u001b[0;31mTypeError\u001b[0m                                 Traceback (most recent call last)",
      "Cell \u001b[0;32mIn[6], line 3\u001b[0m\n\u001b[1;32m      1\u001b[0m \u001b[38;5;66;03m# but will throw error for mutable data type \u001b[39;00m\n\u001b[0;32m----> 3\u001b[0m \u001b[38;5;28;43mhash\u001b[39;49m\u001b[43m(\u001b[49m\u001b[43m[\u001b[49m\u001b[38;5;241;43m1\u001b[39;49m\u001b[43m,\u001b[49m\u001b[38;5;241;43m2\u001b[39;49m\u001b[43m,\u001b[49m\u001b[38;5;241;43m3\u001b[39;49m\u001b[43m,\u001b[49m\u001b[43m]\u001b[49m\u001b[43m)\u001b[49m\n",
      "\u001b[0;31mTypeError\u001b[0m: unhashable type: 'list'"
     ]
    }
   ],
   "source": [
    "# but will throw error for mutable data type \n",
    "\n",
    "hash([1,2,3,])"
   ]
  }
 ],
 "metadata": {
  "kernelspec": {
   "display_name": "sql",
   "language": "python",
   "name": "python3"
  },
  "language_info": {
   "codemirror_mode": {
    "name": "ipython",
    "version": 3
   },
   "file_extension": ".py",
   "mimetype": "text/x-python",
   "name": "python",
   "nbconvert_exporter": "python",
   "pygments_lexer": "ipython3",
   "version": "3.12.0"
  }
 },
 "nbformat": 4,
 "nbformat_minor": 2
}
