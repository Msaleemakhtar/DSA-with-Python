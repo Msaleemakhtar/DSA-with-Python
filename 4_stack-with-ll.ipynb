{
 "cells": [
  {
   "cell_type": "markdown",
   "metadata": {},
   "source": [
    "## Stack with Linked List"
   ]
  },
  {
   "cell_type": "code",
   "execution_count": 8,
   "metadata": {},
   "outputs": [],
   "source": [
    "class Node:\n",
    "    def __init__(self, value) -> None:\n",
    "        self.data = value\n",
    "        self.next = None"
   ]
  },
  {
   "cell_type": "code",
   "execution_count": 10,
   "metadata": {},
   "outputs": [],
   "source": [
    "class Stack:\n",
    "    def __init__(self) -> None:\n",
    "        self.top = None\n",
    "\n",
    "    def isempty(self):\n",
    "        return self.top == None\n",
    "    \n",
    "    def traverse(self):\n",
    "        temp = self.top\n",
    "        while temp != None:\n",
    "            print(temp.data)\n",
    "            temp = temp.next\n",
    "    \n",
    "    def push(self, value):\n",
    "        new_node = Node(value)\n",
    "        new_node.next = self.top\n",
    "        self.top = new_node\n",
    "\n",
    "    def pop(self):\n",
    "        if (self.isempty()):\n",
    "            return \"Stack is empty\"\n",
    "        else:\n",
    "            data = self.top.data\n",
    "            self.top = self.top.next\n",
    "        return data\n",
    "\n",
    "    def peak(self):\n",
    "        if (self.isempty()):\n",
    "            return \"Stack is empty\"\n",
    "        else:\n",
    "            return self.top.data\n",
    "        \n",
    "\n",
    "    def size(self):\n",
    "        temp = self.top\n",
    "        counter = 0\n",
    "        while temp != None:\n",
    "            counter = counter +1\n",
    "            temp = temp.next\n",
    "        return counter"
   ]
  },
  {
   "cell_type": "code",
   "execution_count": 67,
   "metadata": {},
   "outputs": [],
   "source": [
    "a = Stack()\n",
    "a.push(2)\n",
    "a.push(3)\n",
    "a.push(4)"
   ]
  },
  {
   "cell_type": "code",
   "execution_count": 68,
   "metadata": {},
   "outputs": [
    {
     "name": "stdout",
     "output_type": "stream",
     "text": [
      "4\n",
      "3\n",
      "2\n"
     ]
    }
   ],
   "source": [
    "a.traverse()"
   ]
  },
  {
   "cell_type": "code",
   "execution_count": 72,
   "metadata": {},
   "outputs": [
    {
     "data": {
      "text/plain": [
       "'Stack is empty'"
      ]
     },
     "execution_count": 72,
     "metadata": {},
     "output_type": "execute_result"
    }
   ],
   "source": [
    "a.pop()"
   ]
  },
  {
   "cell_type": "code",
   "execution_count": 133,
   "metadata": {},
   "outputs": [
    {
     "name": "stdout",
     "output_type": "stream",
     "text": [
      "olleh\n"
     ]
    }
   ],
   "source": [
    "def reverse_string(text):\n",
    "    s = Stack()\n",
    "    \n",
    "    for i in text:\n",
    "        s.push(i)\n",
    "\n",
    "    result = ''\n",
    "    while (not s.isempty()):\n",
    "        result = result + s.pop()\n",
    "    print(result)\n",
    "\n",
    "reverse_string(\"hello\")"
   ]
  },
  {
   "cell_type": "code",
   "execution_count": 138,
   "metadata": {},
   "outputs": [
    {
     "data": {
      "text/plain": [
       "'salee'"
      ]
     },
     "execution_count": 138,
     "metadata": {},
     "output_type": "execute_result"
    }
   ],
   "source": [
    "# undo and redo\n",
    "def text_editor(text, pattern):\n",
    "\n",
    "    u = Stack()\n",
    "    r = Stack()\n",
    "\n",
    "    for i in text:\n",
    "        u.push(i)\n",
    "\n",
    "    for i in pattern:\n",
    "        if i == \"u\":\n",
    "            data = u.pop()\n",
    "            r.push(data)\n",
    "        else:\n",
    "            data = r.pop()\n",
    "            u.push(data)\n",
    "\n",
    "    result = \"\"\n",
    "    while not u.isempty():\n",
    "        result =  u.pop() + result \n",
    "    return result\n",
    "\n",
    "text_editor(\"saleem\", \"uru\")"
   ]
  },
  {
   "cell_type": "code",
   "execution_count": 31,
   "metadata": {},
   "outputs": [],
   "source": [
    "# find the celebrity\n",
    "\n",
    "L = [\n",
    "    [0,0,1,1],\n",
    "    [0,0,1,0],\n",
    "    [0,0,0,0],\n",
    "    [0,0,1,0]\n",
    "    \n",
    "    ]"
   ]
  },
  {
   "cell_type": "code",
   "execution_count": 3,
   "metadata": {},
   "outputs": [
    {
     "data": {
      "text/plain": [
       "1"
      ]
     },
     "execution_count": 3,
     "metadata": {},
     "output_type": "execute_result"
    }
   ],
   "source": [
    "L[3][2]"
   ]
  },
  {
   "cell_type": "code",
   "execution_count": 38,
   "metadata": {},
   "outputs": [
    {
     "name": "stdout",
     "output_type": "stream",
     "text": [
      "i :  0\n",
      "celb:  2\n",
      "i :  1\n",
      "celb:  2\n",
      "i :  3\n",
      "celb:  2\n",
      "The celb is :  2\n"
     ]
    }
   ],
   "source": [
    "# find the celebrity\n",
    "\n",
    "L = [\n",
    "    [0,0,1,1],\n",
    "    [0,0,1,0],\n",
    "    [0,0,0,0],\n",
    "    [0,0,1,0]\n",
    "    \n",
    "    ]\n",
    "\n",
    "\n",
    "\n",
    "def find_celebrity(L):\n",
    "    s = Stack()\n",
    "    # first push all elements of matrix into stack\n",
    "    for i in range(len(L)):\n",
    "        s.push(i)\n",
    "    # there must be atleast two elements in stack\n",
    "    while s.size() >= 2:\n",
    "        i = s.pop() # 3\n",
    "        j = s.pop()# 2\n",
    "        # if i doesn't know about j \n",
    "        if L[i][j] == 0:\n",
    "          \n",
    "            \n",
    "            # j is not a celb\n",
    "            s.push(i)\n",
    "        else:\n",
    "            # i is not a celb\n",
    "            s.push(j)\n",
    "    celb = s.pop()\n",
    "\n",
    "    for i in range(len(L)):\n",
    "       \n",
    "\n",
    "        if i != celb:\n",
    "            print(\"i : \", i)\n",
    "            print(\"celb: \",celb )\n",
    "\n",
    "            if L[i][celb]  == 0 or L[celb][i] == 1:\n",
    "                print(\"No one is celebrity\")\n",
    "                return\n",
    "    print(\"The celb is : \", celb)\n",
    "\n",
    "find_celebrity(L)   "
   ]
  },
  {
   "cell_type": "code",
   "execution_count": 35,
   "metadata": {},
   "outputs": [
    {
     "name": "stdout",
     "output_type": "stream",
     "text": [
      "i :  0\n",
      "i :  1\n",
      "i :  2\n",
      "i :  3\n",
      "The celb is :  2\n"
     ]
    }
   ],
   "source": [
    "find_celebrity(L)"
   ]
  }
 ],
 "metadata": {
  "kernelspec": {
   "display_name": "sql",
   "language": "python",
   "name": "python3"
  },
  "language_info": {
   "codemirror_mode": {
    "name": "ipython",
    "version": 3
   },
   "file_extension": ".py",
   "mimetype": "text/x-python",
   "name": "python",
   "nbconvert_exporter": "python",
   "pygments_lexer": "ipython3",
   "version": "3.12.0"
  }
 },
 "nbformat": 4,
 "nbformat_minor": 2
}
