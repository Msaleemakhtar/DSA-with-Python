{
 "cells": [
  {
   "cell_type": "markdown",
   "metadata": {},
   "source": [
    "## DATA STRUCTURE &  ALGORITHM(DSA) WITH PYTHON"
   ]
  },
  {
   "cell_type": "markdown",
   "metadata": {},
   "source": [
    "* https://pythontutor.com/python-compiler.html#mode=edit\n",
    "\n",
    "* https://youtu.be/f9Aje_cN_CY?si=_0yGYkLqH1XUyEt3"
   ]
  },
  {
   "cell_type": "markdown",
   "metadata": {},
   "source": [
    "#### \"\"\"DSA is a way of storing and organizing data efficiently\"\"\"\n",
    "\n",
    "DSA;\n",
    "\n",
    "1. Linear DSA\n",
    "\n",
    "            * Array\n",
    "            * Linked List\n",
    "            * Stack\n",
    "            * Queus\n",
    "\n",
    "2. Non-linear DSA\n",
    "    \n",
    "            * Graph\n",
    "            * Tree"
   ]
  },
  {
   "cell_type": "markdown",
   "metadata": {},
   "source": [
    "### Array \n",
    "\n",
    "* Array is linear DSA used to store multiple item of same tpye in continuous memory location"
   ]
  },
  {
   "cell_type": "code",
   "execution_count": 6,
   "metadata": {},
   "outputs": [],
   "source": [
    "import sys"
   ]
  },
  {
   "cell_type": "code",
   "execution_count": 3,
   "metadata": {},
   "outputs": [
    {
     "data": {
      "text/plain": [
       "56"
      ]
     },
     "execution_count": 3,
     "metadata": {},
     "output_type": "execute_result"
    }
   ],
   "source": [
    "L =[]\n",
    "\n",
    "sys.getsizeof(L)\n"
   ]
  },
  {
   "cell_type": "code",
   "execution_count": null,
   "metadata": {},
   "outputs": [],
   "source": [
    "L=[]\n",
    "for i in range(40):\n",
    "    print(i, sys.getsizeof(L))\n",
    "    L.append(i)"
   ]
  },
  {
   "cell_type": "code",
   "execution_count": 56,
   "metadata": {},
   "outputs": [],
   "source": [
    "import ctypes\n",
    "\n",
    "class MyArray:\n",
    "    \"\"\"\n",
    "    MyArray class represents a dynamic array implementation with various methods for manipulation.\n",
    "    \n",
    "    Attributes:\n",
    "    - size: Initial size of the array.\n",
    "    - n: Number of elements in the array.\n",
    "    - A: C type array created with size `self.size`.\n",
    "    \"\"\"\n",
    "\n",
    "    def __init__(self):\n",
    "        \"\"\"Constructor method for initializing the MyArray object.\"\"\"\n",
    "        # Set initial size and number of elements\n",
    "        self.size = 1\n",
    "        self.n = 0\n",
    "        # Create C type array with the initial size\n",
    "        self.A = self.__make_array(self.size)\n",
    "\n",
    "    def __len__(self):\n",
    "        \"\"\"Returns the number of elements in the array.\"\"\"\n",
    "        return self.n\n",
    "\n",
    "    def __str__(self):\n",
    "        \"\"\"Returns a string representation of the array.\"\"\"\n",
    "        result = \"\"\n",
    "        # Concatenate elements into a string\n",
    "        for i in range(self.n):\n",
    "            result = result + str(self.A[i]) + \",\"\n",
    "        return '[' + result[:-1] + ']'\n",
    "\n",
    "    def __getitem__(self, index):\n",
    "        \"\"\"Returns the element at the given index.\"\"\"\n",
    "        if 0 <= index < self.n:\n",
    "            return self.A[index]\n",
    "        else:\n",
    "            return \"IndexError - Index is out of range\"\n",
    "\n",
    "    def __delitem__(self, pos):\n",
    "        \"\"\"Deletes the element at the given position.\"\"\"\n",
    "        if 0 <= pos < self.n:\n",
    "            # Shift elements to fill the gap\n",
    "            for i in range(pos, self.n - 1):\n",
    "                self.A[i] = self.A[i + 1]\n",
    "            self.n = self.n - 1\n",
    "\n",
    "    def remove(self, item):\n",
    "        \"\"\"Removes the first occurrence of the specified item.\"\"\"\n",
    "        # Find the index of the item\n",
    "        pos = self.find(item)\n",
    "        # If the item is found, delete it\n",
    "        if type(pos) == int:\n",
    "            self.__delitem__(pos)\n",
    "        return pos\n",
    "\n",
    "    def pop(self):\n",
    "        \"\"\"Removes and returns the last element of the array.\"\"\"\n",
    "        if self.n == 0:\n",
    "            return \"empty List\"\n",
    "        # Get the last element\n",
    "        popped_element = self.A[self.n - 1]\n",
    "        self.n = self.n - 1\n",
    "        return popped_element\n",
    "\n",
    "    def clear(self):\n",
    "        \"\"\"Clears the array by resetting the number of elements and size.\"\"\"\n",
    "        self.n = 0\n",
    "        self.size = 1\n",
    "\n",
    "    def find(self, item):\n",
    "        \"\"\"Finds the index of the first occurrence of the specified item.\"\"\"\n",
    "        for i in range(self.n):\n",
    "            if self.A[i] == item:\n",
    "                return i\n",
    "        return \"ValueError - Not found\"\n",
    "\n",
    "    def insert(self, pos, item):\n",
    "        \"\"\"Inserts the specified item at the given position.\"\"\"\n",
    "        # Resize the array if necessary\n",
    "        if self.n == self.size:\n",
    "            self.__resize_array(self.size * 2)\n",
    "        # Shift elements to the right to make space for the new item\n",
    "        for i in range(self.n, pos, -1):\n",
    "            self.A[i] = self.A[i - 1]\n",
    "        # Insert the new item\n",
    "        self.A[pos] = item\n",
    "        self.n = self.n + 1\n",
    "\n",
    "    def append(self, item):\n",
    "        \"\"\"Appends the specified item to the end of the array.\"\"\"\n",
    "        # Resize the array if necessary\n",
    "        if self.n == self.size:\n",
    "            self.__resize_array(2 * self.size)\n",
    "        # Append the item to the end\n",
    "        self.A[self.n] = item\n",
    "        self.n = self.n + 1\n",
    "\n",
    "    def __resize_array(self, newcapacity):\n",
    "        \"\"\"Resizes the array to the specified capacity.\"\"\"\n",
    "        # Create a new array with the new capacity\n",
    "        new_array = self.__make_array(newcapacity)\n",
    "        self.size = newcapacity\n",
    "        # Copy existing elements from the old array to the new array\n",
    "        for i in range(self.n):\n",
    "            new_array[i] = self.A[i]\n",
    "        # Update the reference to the new array\n",
    "        self.A = new_array\n",
    "\n",
    "    def __make_array(self, capacity):\n",
    "        \"\"\"Creates a C type array (static, referential) with the specified capacity.\"\"\"\n",
    "        return (capacity * ctypes.py_object)()\n"
   ]
  },
  {
   "cell_type": "code",
   "execution_count": 3,
   "metadata": {},
   "outputs": [],
   "source": []
  },
  {
   "cell_type": "code",
   "execution_count": 57,
   "metadata": {},
   "outputs": [
    {
     "data": {
      "text/plain": [
       "5"
      ]
     },
     "execution_count": 57,
     "metadata": {},
     "output_type": "execute_result"
    }
   ],
   "source": [
    "l = MyArray()\n",
    "l.append(1)\n",
    "l.append(2)\n",
    "l.append(4)\n",
    "l.append(6)\n",
    "l.append(\"he\")\n",
    "len(l)\n",
    "\n"
   ]
  },
  {
   "cell_type": "code",
   "execution_count": 58,
   "metadata": {},
   "outputs": [
    {
     "name": "stdout",
     "output_type": "stream",
     "text": [
      "[1,2,4,6,he]\n"
     ]
    }
   ],
   "source": [
    "print(l)"
   ]
  },
  {
   "cell_type": "code",
   "execution_count": 59,
   "metadata": {},
   "outputs": [
    {
     "data": {
      "text/plain": [
       "0"
      ]
     },
     "execution_count": 59,
     "metadata": {},
     "output_type": "execute_result"
    }
   ],
   "source": [
    "l.remove(1)"
   ]
  },
  {
   "cell_type": "code",
   "execution_count": 60,
   "metadata": {},
   "outputs": [
    {
     "name": "stdout",
     "output_type": "stream",
     "text": [
      "[2,4,6,he]\n"
     ]
    }
   ],
   "source": [
    "print(l)"
   ]
  }
 ],
 "metadata": {
  "kernelspec": {
   "display_name": "sql",
   "language": "python",
   "name": "python3"
  },
  "language_info": {
   "codemirror_mode": {
    "name": "ipython",
    "version": 3
   },
   "file_extension": ".py",
   "mimetype": "text/x-python",
   "name": "python",
   "nbconvert_exporter": "python",
   "pygments_lexer": "ipython3",
   "version": "3.12.0"
  }
 },
 "nbformat": 4,
 "nbformat_minor": 2
}
