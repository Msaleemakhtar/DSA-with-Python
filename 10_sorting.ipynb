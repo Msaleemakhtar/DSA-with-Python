{
 "cells": [
  {
   "cell_type": "markdown",
   "metadata": {},
   "source": [
    "## Sorting in Python DSA"
   ]
  },
  {
   "cell_type": "markdown",
   "metadata": {},
   "source": [
    "### Sorting"
   ]
  },
  {
   "cell_type": "code",
   "execution_count": 1,
   "metadata": {},
   "outputs": [],
   "source": [
    "# To check wether array is sorted or not\n",
    "\n",
    "def is_sorted(arr):\n",
    "    \n",
    "    sorted = True\n",
    "\n",
    "    for i in range(len(arr) - 1):\n",
    "        if arr[i] > arr[i + 1]:\n",
    "            return False\n",
    "    return sorted"
   ]
  },
  {
   "cell_type": "code",
   "execution_count": 2,
   "metadata": {},
   "outputs": [
    {
     "data": {
      "text/plain": [
       "False"
      ]
     },
     "execution_count": 2,
     "metadata": {},
     "output_type": "execute_result"
    }
   ],
   "source": [
    "arr= [1,2,8,4,5,6,7,8]\n",
    "is_sorted(arr)"
   ]
  },
  {
   "cell_type": "markdown",
   "metadata": {},
   "source": [
    "### Monkey sort"
   ]
  },
  {
   "cell_type": "code",
   "execution_count": 5,
   "metadata": {},
   "outputs": [],
   "source": [
    "\n",
    "import time\n",
    "import random\n",
    "# Time complexity of monkey sort is infinite\n",
    "def monkey_sort(arr):\n",
    "\n",
    "    while not is_sorted(arr):\n",
    "        time.sleep(2)\n",
    "        random.shuffle(arr)\n",
    "        print(arr)\n",
    "    print(arr)"
   ]
  },
  {
   "cell_type": "code",
   "execution_count": 10,
   "metadata": {},
   "outputs": [
    {
     "name": "stdout",
     "output_type": "stream",
     "text": [
      "[2, 8, 7]\n",
      "[7, 8, 2]\n",
      "[8, 7, 2]\n",
      "[7, 2, 8]\n",
      "[7, 8, 2]\n",
      "[7, 8, 2]\n",
      "[8, 7, 2]\n",
      "[2, 7, 8]\n",
      "[2, 7, 8]\n"
     ]
    }
   ],
   "source": [
    "arr = [8,2,7]\n",
    "monkey_sort(arr)"
   ]
  },
  {
   "cell_type": "markdown",
   "metadata": {},
   "source": [
    "### Sleep sort"
   ]
  },
  {
   "cell_type": "code",
   "execution_count": null,
   "metadata": {},
   "outputs": [],
   "source": []
  },
  {
   "cell_type": "markdown",
   "metadata": {},
   "source": [
    "### Bubble sort"
   ]
  },
  {
   "cell_type": "markdown",
   "metadata": {},
   "source": [
    "* DEMO LINK :  https://www.hackerearth.com/practice/algorithms/sorting/bubble-sort/visualize/"
   ]
  },
  {
   "cell_type": "code",
   "execution_count": 6,
   "metadata": {},
   "outputs": [],
   "source": [
    "# By nature babubble sort is not adaptive\n",
    "# By nature babubble sort is stable\n",
    "\n",
    "def bubble_sort(arr):\n",
    "    for i in range(len(arr)-1):   # starting pass\n",
    "        for j in range(len(arr)-1- i):\n",
    "            if arr[j] > arr[j + 1]:   #  comparison\n",
    "                arr[j], arr[j+1] = arr[j+1], arr[j] # swaping\n",
    "\n",
    "    print(arr)\n",
    "\n"
   ]
  },
  {
   "cell_type": "code",
   "execution_count": 7,
   "metadata": {},
   "outputs": [
    {
     "name": "stdout",
     "output_type": "stream",
     "text": [
      "[1, 3, 3, 6, 8, 9, 12]\n"
     ]
    }
   ],
   "source": [
    "arr = [9,8,3,12,1,6,3]\n",
    "bubble_sort(arr)"
   ]
  },
  {
   "cell_type": "code",
   "execution_count": 9,
   "metadata": {},
   "outputs": [],
   "source": [
    "\n",
    "# By nature babubble sort is not adaptive but it can be make adaptive by using flag technique\n",
    "\n",
    "def bubble_sort(arr):\n",
    "    for i in range(len(arr)-1):   # starting pass\n",
    "        flag = 0\n",
    "        for j in range(len(arr)-1- i):\n",
    "            if arr[j] > arr[j + 1]:   #  comparison\n",
    "                arr[j], arr[j+1] = arr[j+1], arr[j] # swaping\n",
    "                flag = 1\n",
    "                \n",
    "        if flag == 0:\n",
    "            break\n",
    "\n",
    "    print(arr)\n"
   ]
  },
  {
   "cell_type": "code",
   "execution_count": 11,
   "metadata": {},
   "outputs": [
    {
     "name": "stdout",
     "output_type": "stream",
     "text": [
      "[1, 2, 3, 4]\n"
     ]
    }
   ],
   "source": [
    "arr = [2,1,3,4]\n",
    "bubble_sort(arr)"
   ]
  }
 ],
 "metadata": {
  "kernelspec": {
   "display_name": "sql",
   "language": "python",
   "name": "python3"
  },
  "language_info": {
   "codemirror_mode": {
    "name": "ipython",
    "version": 3
   },
   "file_extension": ".py",
   "mimetype": "text/x-python",
   "name": "python",
   "nbconvert_exporter": "python",
   "pygments_lexer": "ipython3",
   "version": "3.12.0"
  }
 },
 "nbformat": 4,
 "nbformat_minor": 2
}
