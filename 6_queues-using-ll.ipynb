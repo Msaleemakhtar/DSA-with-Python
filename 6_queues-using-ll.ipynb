{
 "cells": [
  {
   "cell_type": "markdown",
   "metadata": {},
   "source": [
    "## Queues using Linked List in DSA"
   ]
  },
  {
   "cell_type": "code",
   "execution_count": 53,
   "metadata": {},
   "outputs": [],
   "source": [
    "class Node:\n",
    "    def __init__(self, value):\n",
    "        self.data = value\n",
    "        self.next = None\n",
    "\n",
    "\n",
    "class Queue:\n",
    "    def __init__(self) -> None:\n",
    "        self.front = None\n",
    "        self.rear = None\n",
    "\n",
    "\n",
    "    def enqueue(self, value):\n",
    "        new_node = Node(value)\n",
    "\n",
    "        if self.rear == None:\n",
    "            self.front = new_node\n",
    "            self.rear = self.front\n",
    "        else:\n",
    "            self.rear.next = new_node\n",
    "            self.rear = new_node\n",
    "    \n",
    "    def delqueue(self):\n",
    "\n",
    "        if self.front == None:\n",
    "            return \"Queue is Empty\"\n",
    "        else:\n",
    "            self.front = self.front.next\n",
    "    \n",
    "\n",
    "    def traverse(self):\n",
    "        front = self.front \n",
    "\n",
    "        while front != None:\n",
    "            print(front.data, end=\"\")\n",
    "            front = front.next\n",
    "\n",
    "\n",
    "    def size(self):\n",
    "        front = self.front \n",
    "        counter = 0\n",
    "\n",
    "        while front != None:\n",
    "            counter += 1\n",
    "            front = front.next\n",
    "        \n",
    "        return counter\n",
    "    \n",
    "    def is_empty(self):\n",
    "        return self.front == None\n"
   ]
  },
  {
   "cell_type": "code",
   "execution_count": 54,
   "metadata": {},
   "outputs": [],
   "source": [
    "q = Queue()"
   ]
  },
  {
   "cell_type": "code",
   "execution_count": 55,
   "metadata": {},
   "outputs": [],
   "source": [
    "q.enqueue(1)\n",
    "q.enqueue(3)\n",
    "q.enqueue(8)\n",
    "q.enqueue(9)"
   ]
  },
  {
   "cell_type": "code",
   "execution_count": 64,
   "metadata": {},
   "outputs": [],
   "source": [
    "q.traverse()"
   ]
  },
  {
   "cell_type": "code",
   "execution_count": 63,
   "metadata": {},
   "outputs": [],
   "source": [
    "q.delqueue()"
   ]
  }
 ],
 "metadata": {
  "kernelspec": {
   "display_name": "sql",
   "language": "python",
   "name": "python3"
  },
  "language_info": {
   "codemirror_mode": {
    "name": "ipython",
    "version": 3
   },
   "file_extension": ".py",
   "mimetype": "text/x-python",
   "name": "python",
   "nbconvert_exporter": "python",
   "pygments_lexer": "ipython3",
   "version": "3.12.0"
  }
 },
 "nbformat": 4,
 "nbformat_minor": 2
}
