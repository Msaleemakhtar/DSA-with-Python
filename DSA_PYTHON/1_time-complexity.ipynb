{
 "cells": [
  {
   "cell_type": "markdown",
   "metadata": {},
   "source": [
    "## DATA STRUCTURE &  ALGORITHM(DSA) WITH PYTHON"
   ]
  },
  {
   "cell_type": "markdown",
   "metadata": {},
   "source": [
    "###     Algorithmic Complexity\n",
    "\n",
    "###  Time Complexity ----> Techniques to measure time efficiency\n",
    "\n",
    "* 1. Measuring time to execute\n",
    "* 2. Counting operations involved\n",
    "* 3. Abstract Notions of order of growth\n"
   ]
  },
  {
   "cell_type": "markdown",
   "metadata": {},
   "source": [
    "### 1.   Measuring Time \n",
    "\n",
    "But this technique is not used in industry due to certain problems  \n",
    "* Different time for different algorithms , It should be  ✔\n",
    "* Time varies if implementation changes ,e.g , if for loop is used instead of while loop 〤\n",
    "* Different machines different time due to change of hardware 〤\n",
    "* Doesn't work for exremely small input 〤\n",
    "* Time varies for ddifferent inputs , but can't establish relationship 〤\n",
    "\n"
   ]
  },
  {
   "cell_type": "code",
   "execution_count": null,
   "metadata": {},
   "outputs": [],
   "source": [
    "# Measuring Time / in first method used timer to calculate the time\n",
    "import time\n",
    "\n",
    "start = time.time() # start time \n",
    "for i in range(1, 101):\n",
    "    print(i)\n",
    "#   current time - start time\n",
    "print(time.time()-start) # current time to measure the efficiency of programme\n"
   ]
  },
  {
   "cell_type": "markdown",
   "metadata": {},
   "source": [
    "### 2.   Counting Operations\n",
    "\n",
    "\n",
    "But this technique solve  certain problems but not all \n",
    "* Different time for different algorithms , It should be  ✔\n",
    "* Time varies if implementation changes ,e.g , if for loop is used instead of while loop   〤\n",
    "* No clear defintion to which operation count 〤\n",
    "* Different machines different time due to change of hardware ✔\n",
    "* Doesn't work for exremely small input 〤\n",
    "* Time varies for ddifferent inputs , but can establish relationship ✔"
   ]
  },
  {
   "cell_type": "code",
   "execution_count": null,
   "metadata": {},
   "outputs": [],
   "source": [
    "def my_sum(x):\n",
    "    total = 0 # one operation\n",
    "    for i in range(x + 1): # one operation\n",
    "        print(i)\n",
    "        total+= i # two operation\n",
    "    return total # one operation\n",
    "    \n",
    "    "
   ]
  },
  {
   "cell_type": "markdown",
   "metadata": {},
   "source": [
    "### 3.   Order of Growth\n",
    "\n",
    " What do we want\n",
    "\n",
    "*  we want to evaluate the algorithms\n",
    "* we want to evaluate scalability\n",
    "* we want to evaluate in term of input size\n",
    "\n",
    "Goals:\n",
    "\n",
    "* Want to evaluate programm's efficiency when input is very big--->measure time efficiency for big programm \n",
    "* want to express the growth of programm's run time as input size grows-->to draw mathematical relationship between time and input , how input depends on time \n",
    "* want to put UPPER BOUND on growth , as tight as possible\n",
    "* don't need to be precise , order of not exact growth\n",
    "\n",
    "* we will look at largest factor in run time (which section of the programme will take the longest to run)\n",
    "* Thus, generally we want tight upper bound on growth, as function of size of input , in worst case\n",
    "\n",
    "Big OH Notation:\n",
    "\n",
    "measures an upper bound on the asymptotic growth, often called order of growth\n",
    "\n",
    "* Big Oh or O(), is used to describe worst case\n",
    "    * Worst case occurs often and is the bottleneck when a programm runs\n",
    "    * express rate of growth of programm relative to the input siz\n",
    "    * Evaluate alogorithm Not machine or implementation\n",
    "\n",
    "calculate O() : order of growth \n",
    "\n",
    "  2**n + n + 2 \n",
    "\n",
    "    * 2**n -- represents nested loop\n",
    "    * n --represents loop\n",
    "    * 2-- represents two operations outside the loop\n",
    "        * first remove the additive and multiplicative constant \n",
    "\n",
    "    2**n + n\n",
    "        *   remove which is smaller , n is smaller\n",
    "\n",
    "    2**n  it is O(2**n) is order of growth\n",
    "\n",
    "Following are the key time and space complexities:\n",
    "\n",
    "Constant: O(1)\n",
    "\n",
    "Linear time: O(n)\n",
    "\n",
    "Quadratic time: O(n^2)\n",
    "\n",
    "Logarithmic time: O(log n)\n",
    "\n",
    "Logarithmic time: O(n log n)\n",
    "\n",
    "Exponential time: 2 ^(n)\n",
    "\n",
    "Factorial time: O(n!)\n",
    "\n"
   ]
  }
 ],
 "metadata": {
  "kernelspec": {
   "display_name": "sql",
   "language": "python",
   "name": "python3"
  },
  "language_info": {
   "codemirror_mode": {
    "name": "ipython",
    "version": 3
   },
   "file_extension": ".py",
   "mimetype": "text/x-python",
   "name": "python",
   "nbconvert_exporter": "python",
   "pygments_lexer": "ipython3",
   "version": "3.12.0"
  }
 },
 "nbformat": 4,
 "nbformat_minor": 2
}
