{
 "cells": [
  {
   "cell_type": "markdown",
   "metadata": {},
   "source": [
    "## DATA STRUCTURE &  ALGORITHM(DSA) WITH PYTHON"
   ]
  },
  {
   "cell_type": "markdown",
   "metadata": {},
   "source": [
    "* https://pythontutor.com/python-compiler.html#mode=edit\n",
    "\n",
    "* https://youtu.be/f9Aje_cN_CY?si=_0yGYkLqH1XUyEt3"
   ]
  },
  {
   "cell_type": "markdown",
   "metadata": {},
   "source": [
    "#### \"\"\"DSA is a way of storing and organizing data efficiently\"\"\"\n",
    "\n",
    "DSA;\n",
    "\n",
    "1. Linear DSA\n",
    "\n",
    "            * Array\n",
    "            * Linked List\n",
    "            * Stack\n",
    "            * Queus\n",
    "\n",
    "2. Non-linear DSA\n",
    "    \n",
    "            * Graph\n",
    "            * Tree"
   ]
  },
  {
   "cell_type": "markdown",
   "metadata": {},
   "source": [
    "### Array \n",
    "\n",
    "* Array is linear DSA used to store multiple item of same tpye in continuous memory location"
   ]
  },
  {
   "cell_type": "code",
   "execution_count": null,
   "metadata": {},
   "outputs": [],
   "source": [
    "\n"
   ]
  }
 ],
 "metadata": {
  "kernelspec": {
   "display_name": "sql",
   "language": "python",
   "name": "python3"
  },
  "language_info": {
   "codemirror_mode": {
    "name": "ipython",
    "version": 3
   },
   "file_extension": ".py",
   "mimetype": "text/x-python",
   "name": "python",
   "nbconvert_exporter": "python",
   "pygments_lexer": "ipython3",
   "version": "3.12.0"
  }
 },
 "nbformat": 4,
 "nbformat_minor": 2
}
