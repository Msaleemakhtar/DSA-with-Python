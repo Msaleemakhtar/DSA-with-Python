{
 "cells": [
  {
   "cell_type": "markdown",
   "metadata": {},
   "source": [
    "## DATA STRUCTURE &  ALGORITHM(DSA) WITH PYTHON"
   ]
  },
  {
   "cell_type": "markdown",
   "metadata": {},
   "source": [
    "* https://pythontutor.com/python-compiler.html#mode=edit\n",
    "\n",
    "* https://youtu.be/f9Aje_cN_CY?si=_0yGYkLqH1XUyEt3"
   ]
  },
  {
   "cell_type": "markdown",
   "metadata": {},
   "source": [
    "#### \"\"\"DSA is a way of storing and organizing data efficiently\"\"\"\n",
    "\n",
    "DSA;\n",
    "\n",
    "1. Linear DSA\n",
    "\n",
    "            * Array\n",
    "            * Linked List\n",
    "            * Stack\n",
    "            * Queus\n",
    "\n",
    "2. Non-linear DSA\n",
    "    \n",
    "            * Graph\n",
    "            * Tree"
   ]
  },
  {
   "cell_type": "markdown",
   "metadata": {},
   "source": [
    "### Array \n",
    "\n",
    "* Array is linear DSA used to store multiple item of same tpye in continuous memory location"
   ]
  },
  {
   "cell_type": "code",
   "execution_count": 6,
   "metadata": {},
   "outputs": [],
   "source": [
    "import sys"
   ]
  },
  {
   "cell_type": "code",
   "execution_count": 3,
   "metadata": {},
   "outputs": [
    {
     "data": {
      "text/plain": [
       "56"
      ]
     },
     "execution_count": 3,
     "metadata": {},
     "output_type": "execute_result"
    }
   ],
   "source": [
    "L =[]\n",
    "\n",
    "sys.getsizeof(L)\n"
   ]
  },
  {
   "cell_type": "code",
   "execution_count": null,
   "metadata": {},
   "outputs": [],
   "source": [
    "L=[]\n",
    "for i in range(40):\n",
    "    print(i, sys.getsizeof(L))\n",
    "    L.append(i)"
   ]
  },
  {
   "cell_type": "code",
   "execution_count": 4,
   "metadata": {},
   "outputs": [],
   "source": [
    "import ctypes"
   ]
  },
  {
   "cell_type": "code",
   "execution_count": 55,
   "metadata": {},
   "outputs": [],
   "source": [
    "class MyArray:\n",
    "    def __init__(self):\n",
    "        self.size = 1 # intially size of the array \n",
    "        self.n = 0 # no of elements in the array\n",
    "        self.A = self.__make_array(self.size)# created the C type array with size = self.size\n",
    "        \n",
    "     # lenghth method   \n",
    "    def __len__(self):\n",
    "        return self.n\n",
    "    \n",
    "    \n",
    "    # print method\n",
    "    def __str__(self) -> str:\n",
    "        result = \"\"\n",
    "        for i in range(self.n):\n",
    "            result = result + str(self.A[i]) + \",\"\n",
    "        return '[' + result[:-1] + ']'\n",
    "    \n",
    "\n",
    "    # index method\n",
    "    def __getitem__(self, index):\n",
    "        if 0 <= index < self.n:\n",
    "            return self.A[index]\n",
    "        else:\n",
    "            return \"IndexError - Index is out of range\"\n",
    "        \n",
    "        \n",
    "    # pop method \n",
    "    def pop(self):\n",
    "        if self.n == 0:\n",
    "            return \"empty List\"\n",
    "        print(self.A[self.n - 1])\n",
    "        self.n = self.n - 1\n",
    "\n",
    "    # Clear method\n",
    "    def clear(self):\n",
    "        self.n = 0\n",
    "        self.size = 1\n",
    "\n",
    "    def append(self, item):\n",
    "        # resize\n",
    "        if self.n == self.size:\n",
    "           self.__resize_array(2 * self.size)\n",
    "\n",
    "        #append\n",
    "        self.A[self.n] = item\n",
    "        self.n = self.n + 1\n",
    "\n",
    "    def __resize_array(self, newcapacity):\n",
    "        # resize the array\n",
    "        new_array = self.__make_array(newcapacity)\n",
    "        self.size = newcapacity\n",
    "        # copy existing elements from previous array to new array\n",
    "        for i in range(self.n):\n",
    "            new_array[i] = self.A[i]\n",
    "        self.A = new_array\n",
    "        \n",
    "\n",
    "\n",
    "    # created C type array (static, referential) with size or capacity of array\n",
    "    def __make_array(self, capacity):\n",
    "        return (capacity*ctypes.py_object)()"
   ]
  },
  {
   "cell_type": "code",
   "execution_count": 66,
   "metadata": {},
   "outputs": [
    {
     "data": {
      "text/plain": [
       "5"
      ]
     },
     "execution_count": 66,
     "metadata": {},
     "output_type": "execute_result"
    }
   ],
   "source": [
    "l = MyArray()\n",
    "l.append(1)\n",
    "l.append(2)\n",
    "l.append(4)\n",
    "l.append(6)\n",
    "l.append(\"hello\")\n",
    "len(l)\n",
    "\n"
   ]
  },
  {
   "cell_type": "code",
   "execution_count": 67,
   "metadata": {},
   "outputs": [
    {
     "name": "stdout",
     "output_type": "stream",
     "text": [
      "[1,2,4,6,hello]\n"
     ]
    }
   ],
   "source": [
    "print(l)"
   ]
  },
  {
   "cell_type": "code",
   "execution_count": 73,
   "metadata": {},
   "outputs": [
    {
     "data": {
      "text/plain": [
       "'empty List'"
      ]
     },
     "execution_count": 73,
     "metadata": {},
     "output_type": "execute_result"
    }
   ],
   "source": [
    "l.pop()"
   ]
  }
 ],
 "metadata": {
  "kernelspec": {
   "display_name": "sql",
   "language": "python",
   "name": "python3"
  },
  "language_info": {
   "codemirror_mode": {
    "name": "ipython",
    "version": 3
   },
   "file_extension": ".py",
   "mimetype": "text/x-python",
   "name": "python",
   "nbconvert_exporter": "python",
   "pygments_lexer": "ipython3",
   "version": "3.12.0"
  }
 },
 "nbformat": 4,
 "nbformat_minor": 2
}
