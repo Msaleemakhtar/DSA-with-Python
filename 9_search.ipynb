{
 "cells": [
  {
   "cell_type": "markdown",
   "metadata": {},
   "source": [
    "## Search in Python DSA"
   ]
  },
  {
   "cell_type": "markdown",
   "metadata": {},
   "source": [
    "### Linear Search"
   ]
  },
  {
   "cell_type": "code",
   "execution_count": 1,
   "metadata": {},
   "outputs": [],
   "source": [
    "# Linear search , Brute force approach\n",
    "# Time complexity is O(n), size of array increases, time complexity also increases\n",
    "# it works on all data sorted or unsorted\n",
    "\n",
    "def linear_search(arr, item):\n",
    "    for i in range(len(arr)):\n",
    "        if arr[i] == item:\n",
    "            return i\n",
    "    return -1"
   ]
  },
  {
   "cell_type": "code",
   "execution_count": 2,
   "metadata": {},
   "outputs": [
    {
     "data": {
      "text/plain": [
       "6"
      ]
     },
     "execution_count": 2,
     "metadata": {},
     "output_type": "execute_result"
    }
   ],
   "source": [
    "arr = [1,3,4,5,7,8,99,88,77,65,33,123,44]\n",
    "\n",
    "linear_search(arr, 99)"
   ]
  },
  {
   "cell_type": "markdown",
   "metadata": {},
   "source": [
    "### Binary Search\n",
    "\n",
    "* Binary search demo 1:    https://liveexample.pearsoncmg.com/liang/animation/web/BinarySearch.html\n",
    "\n",
    "* Binary search demo 2:    https://yongdanielliang.github.io/animation/web/BinarySearchNew.html\n",
    "\n",
    "* Time complexity of Binary search with recursion is :  \n",
    "\n",
    "* Amortization cost : \n",
    "\n"
   ]
  },
  {
   "cell_type": "code",
   "execution_count": 5,
   "metadata": {},
   "outputs": [],
   "source": [
    "# Binary search is always on sorted array\n",
    "\n",
    "def binary_search(arr, low, high, item):\n",
    "\n",
    "    mid = (low + high )// 2\n",
    "\n",
    "    if low <= high:\n",
    "\n",
    "        if arr[mid] == item:\n",
    "            return mid\n",
    "        elif arr[mid] > item:\n",
    "            return binary_search(arr, low, mid-1, item)\n",
    "        else:\n",
    "            return binary_search(arr, mid+1, high, item)\n",
    "    else:\n",
    "        return \" Out of range\"\n",
    "    \n"
   ]
  },
  {
   "cell_type": "code",
   "execution_count": 9,
   "metadata": {},
   "outputs": [
    {
     "data": {
      "text/plain": [
       "2"
      ]
     },
     "execution_count": 9,
     "metadata": {},
     "output_type": "execute_result"
    }
   ],
   "source": [
    "arr =[1,2,3,4,5,6,7,8,9,10,11,12,45,67,88,99,100,300,401]\n",
    "binary_search(arr,0, len(arr)-1, 3)"
   ]
  },
  {
   "cell_type": "code",
   "execution_count": 24,
   "metadata": {},
   "outputs": [],
   "source": [
    "# Binary search is always on sorted array\n",
    "\n",
    "def binary_search(arr, item):\n",
    "    low = 0\n",
    "    high = len(arr) -1\n",
    "\n",
    "    \n",
    "\n",
    "    while low < high:\n",
    "\n",
    "        mid = (low + high )// 2\n",
    "\n",
    "        if arr[mid] == item:\n",
    "            return mid\n",
    "        \n",
    "        elif arr[mid] > item:\n",
    "            high = mid - 1 \n",
    "            \n",
    "        else:\n",
    "            low = mid + 1\n",
    "    \n",
    "    return \" Out of range\""
   ]
  },
  {
   "cell_type": "code",
   "execution_count": 26,
   "metadata": {},
   "outputs": [
    {
     "data": {
      "text/plain": [
       "' Out of range'"
      ]
     },
     "execution_count": 26,
     "metadata": {},
     "output_type": "execute_result"
    }
   ],
   "source": [
    "arr =[1,2,3,4,5,6,7,8,9,10,11,12,45,67,88,99,100,300,401]\n",
    "binary_search(arr, 403)"
   ]
  }
 ],
 "metadata": {
  "kernelspec": {
   "display_name": "sql",
   "language": "python",
   "name": "python3"
  },
  "language_info": {
   "codemirror_mode": {
    "name": "ipython",
    "version": 3
   },
   "file_extension": ".py",
   "mimetype": "text/x-python",
   "name": "python",
   "nbconvert_exporter": "python",
   "pygments_lexer": "ipython3",
   "version": "3.12.0"
  }
 },
 "nbformat": 4,
 "nbformat_minor": 2
}
