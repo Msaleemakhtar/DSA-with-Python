{
 "cells": [
  {
   "cell_type": "markdown",
   "metadata": {},
   "source": [
    "## DATA STRUCTURE &  ALGORITHM(DSA) WITH PYTHON"
   ]
  },
  {
   "cell_type": "markdown",
   "metadata": {},
   "source": [
    "* https://pythontutor.com/python-compiler.html#mode=edit\n",
    "\n",
    "* https://youtu.be/f9Aje_cN_CY?si=_0yGYkLqH1XUyEt3"
   ]
  },
  {
   "cell_type": "markdown",
   "metadata": {},
   "source": [
    "###     Algorithmic Complexity\n",
    "\n",
    "###  Time Complexity ----> Techniques to measure time efficiency\n",
    "\n",
    "* 1. Measuring time to execute\n",
    "* 2. Counting operations involved\n",
    "* 3. Abstract Notions of order of growth\n"
   ]
  },
  {
   "cell_type": "markdown",
   "metadata": {},
   "source": [
    "### 1.   Measuring Time \n",
    "\n",
    "But this technique is not used in industry due to certain problems  \n",
    "* Different time for different algorithms , It should be  ✔\n",
    "* Time varies if implementation changes ,e.g , if for loop is used instead of while loop 〤\n",
    "* Different machines different time due to change of hardware 〤\n",
    "* Doesn't work for exremely small input 〤\n",
    "* Time varies for ddifferent inputs , but can't establish relationship 〤\n",
    "\n"
   ]
  },
  {
   "cell_type": "code",
   "execution_count": null,
   "metadata": {},
   "outputs": [],
   "source": [
    "# Measuring Time / in first method used timer to calculate the time\n",
    "import time\n",
    "\n",
    "start = time.time() # start time \n",
    "for i in range(1, 101):\n",
    "    print(i)\n",
    "#   current time - start time\n",
    "print(time.time()-start) # current time to measure the efficiency of programme\n"
   ]
  },
  {
   "cell_type": "markdown",
   "metadata": {},
   "source": [
    "### 2.   Counting Operations\n",
    "\n",
    "\n",
    "But this technique solve  certain problems but not all \n",
    "* Different time for different algorithms , It should be  ✔\n",
    "* Time varies if implementation changes ,e.g , if for loop is used instead of while loop   〤\n",
    "* No clear defintion to which operation count 〤\n",
    "* Different machines different time due to change of hardware ✔\n",
    "* Doesn't work for exremely small input 〤\n",
    "* Time varies for ddifferent inputs , but can establish relationship ✔"
   ]
  },
  {
   "cell_type": "code",
   "execution_count": null,
   "metadata": {},
   "outputs": [],
   "source": [
    "def my_sum(x):\n",
    "    total = 0 # one operation\n",
    "    for i in range(x + 1): # one operation\n",
    "        print(i)\n",
    "        total+= i # two operation\n",
    "    return total # one operation\n",
    "    \n",
    "    "
   ]
  },
  {
   "cell_type": "markdown",
   "metadata": {},
   "source": [
    "### 3.   Order of Growth\n",
    "\n",
    " What do we want\n",
    "\n",
    "*  we want to evaluate the algorithms\n",
    "* we want to evaluate scalability\n",
    "* we want to evaluate in term of input size\n",
    "\n",
    "Goals:\n",
    "\n",
    "* Want to evaluate programm's efficiency when input is very big--->measure time efficiency for big programm \n",
    "* want to express the growth of programm's run time as input size grows-->to draw mathematical relationship between time and input , how input depends on time \n",
    "* want to put UPPER BOUND on growth , as tight as possible\n",
    "* don't need to be precise , order of not exact growth\n",
    "\n",
    "* we will look at largest factor in run time (which section of the programme will take the longest to run)\n",
    "* Thus, generally we want tight upper bound on growth, as function of size of input , in worst case\n",
    "\n",
    "Big OH Notation:\n",
    "\n",
    "measures an upper bound on the asymptotic growth, often called order of growth\n",
    "\n",
    "* Big Oh or O(), is used to describe worst case\n",
    "    * Worst case occurs often and is the bottleneck when a programm runs\n",
    "    * express rate of growth of programm relative to the input siz\n",
    "    * Evaluate alogorithm Not machine or implementation\n",
    "\n",
    "calculate O() : order of growth \n",
    "\n",
    "  2**n + n + 2 \n",
    "\n",
    "    * 2**n -- represents nested loop\n",
    "    * n --represents loop\n",
    "    * 2-- represents two operations outside the loop\n",
    "        * first remove the additive and multiplicative constant \n",
    "\n",
    "    2**n + n\n",
    "        *   remove which is smaller , n is smaller\n",
    "\n",
    "    2**n  it is O(2**n) is order of growth\n",
    "\n",
    "Following are the key time and space complexities:\n",
    "\n",
    "Constant: O(1)\n",
    "\n",
    "Linear time: O(n)\n",
    "\n",
    "Quadratic time: O(n^2)\n",
    "\n",
    "Logarithmic time: O(log n)\n",
    "\n",
    "Logarithmic time: O(n log n)\n",
    "\n",
    "Exponential time: 2 ^(n)\n",
    "\n",
    "Factorial time: O(n!)\n",
    "\n"
   ]
  },
  {
   "cell_type": "markdown",
   "metadata": {},
   "source": [
    "## Practice"
   ]
  },
  {
   "cell_type": "code",
   "execution_count": 2,
   "metadata": {},
   "outputs": [
    {
     "name": "stdout",
     "output_type": "stream",
     "text": [
      "10\n",
      "24\n"
     ]
    }
   ],
   "source": [
    "f\"The loop iterates through each element in the list once. \n",
    "The time complexity of the loop is directly proportional to \n",
    "the number of elements in the list (n), so it is O(n), \n",
    "where n is the size of the list. \n",
    "The algorithm scales linearly with the input size.\"\n",
    "\n",
    "\n",
    "\n",
    "\n",
    "l =  [1,2,3,4]\n",
    "\n",
    " # single loop /independent, the the order of growth is = O(n)\n",
    "sum = 0\n",
    "for i in l:\n",
    "    sum = sum + i\n",
    "print(sum)\n",
    "\n",
    "\n",
    " # single loop /independent, the the order of growth is = O(n)\n",
    "product = 1\n",
    "for i in l:\n",
    "    product = product * i   \n",
    "print(product)\n",
    "\n",
    "# Both are independent and single loops , their order of growth will add O(n) + O(n)---> O(n+n) ---> O(2n)\n",
    "# O(2n)-- remove the multiplicatice constant , O(n),  order of growth is linear "
   ]
  },
  {
   "cell_type": "code",
   "execution_count": null,
   "metadata": {},
   "outputs": [],
   "source": [
    "f\"one way to express the order of growth is to analyze the nested loops and understand their structure.\n",
    "In the case of the quadratic_example function, there are two nested loops:\n",
    "def quadratic_example(lst):\n",
    "    n = len(lst)\n",
    "    for i in range(n):\n",
    "        for j in range(n):\n",
    "            pass\n",
    "            # The body of the inner loop represents a constant-time operation\n",
    "\n",
    "Here, the inner loop runs n times for each iteration of the outer loop, \n",
    "resulting in a total of n * n iterations. The body of the inner loop represents a constant-time operation.\n",
    "\n",
    "Now, let's express the order of growth:\n",
    "\n",
    "The outer loop runs n times.\n",
    "For each iteration of the outer loop, the inner loop runs n times.\n",
    "The total number of iterations is given by n * n, which is O(n^2). \n",
    "This indicates a quadratic order of growth.\n",
    "\n",
    "In summary, without explicitly counting operations or measuring time,\n",
    " we can infer the order of growth by analyzing the structure of the nested loops. \n",
    " The presence of two nested loops, each running 'n' times, leads to a quadratic time complexity of O(n^2).\n",
    "\""
   ]
  },
  {
   "cell_type": "code",
   "execution_count": 4,
   "metadata": {},
   "outputs": [
    {
     "name": "stdout",
     "output_type": "stream",
     "text": [
      "(1,1)\n",
      "(1,2)\n",
      "(1,3)\n",
      "(1,4)\n",
      "(2,1)\n",
      "(2,2)\n",
      "(2,3)\n",
      "(2,4)\n",
      "(3,1)\n",
      "(3,2)\n",
      "(3,3)\n",
      "(3,4)\n",
      "(4,1)\n",
      "(4,2)\n",
      "(4,3)\n",
      "(4,4)\n"
     ]
    }
   ],
   "source": [
    "L = [1,2,3,4,]\n",
    "\n",
    "for i in L: # the time complexity of outer loop is O(n)\n",
    "    for j in L:# the time complexity of inner loop is O(n)\n",
    "        print('({},{})'.format(i,j))\n",
    "\n",
    "    # f\"Due to nested loop time complexity of both loop will be \n",
    "    # multiplied O(n) * O(n) -- > O(n * n) \n",
    "    #   now complexity is O(n^2)  \""
   ]
  },
  {
   "cell_type": "code",
   "execution_count": null,
   "metadata": {},
   "outputs": [],
   "source": [
    "import time\n",
    "import matplotlib.pyplot as plt\n",
    "\n",
    "def quadratic_example(lst):\n",
    "    n = len(lst)\n",
    "    for i in range(n):\n",
    "        for j in range(n):\n",
    "            pass\n",
    "            # print('{},{}'.format(i,j))\n",
    "\n",
    "# Function to measure the execution time for different input sizes\n",
    "def measure_execution_time(input_sizes):\n",
    "    execution_times = []\n",
    "\n",
    "    for size in input_sizes:\n",
    "        \n",
    "        my_list = list(range(size))\n",
    "        \n",
    "        start_time = time.time()\n",
    "        quadratic_example(my_list)\n",
    "        end_time = time.time()\n",
    "        execution_time = end_time - start_time\n",
    "        execution_times.append(execution_time)\n",
    "\n",
    "    return execution_times\n",
    "\n",
    "# Generate input sizes from 1 to 100 with steps of 10\n",
    "input_sizes = list(range(1, 101,10))\n",
    "\n",
    "# Measure execution time for different input sizes\n",
    "execution_times = measure_execution_time(input_sizes)\n",
    "\n",
    "# Plotting the results\n",
    "plt.figure(figsize=(10, 6))\n",
    "plt.plot(input_sizes, execution_times, marker='o', linestyle='-', color='b')\n",
    "plt.title('Quadratic Time Complexity (O(n^2))')\n",
    "plt.xlabel('Input Size (n)')\n",
    "plt.ylabel('Execution Time')\n",
    "plt.grid(True)\n",
    "plt.show()\n",
    "\n",
    "# f\"As the input size increases, the execution time increases.\n",
    "# The relationship between input size and execution time is quadratic, resulting in a parabolic curve.\n",
    "# The quadratic growth rate is evident in the increasing slope of the curve.\n",
    "# Keep in mind that the actual execution times may vary based on factors such as hardware, \n",
    "# system load, and other environmental conditions. The purpose of the chart \n",
    "# is to illustrate the general trend of quadratic time complexity as the input size grows.\"\n"
   ]
  },
  {
   "cell_type": "code",
   "execution_count": 2,
   "metadata": {},
   "outputs": [
    {
     "data": {
      "image/png": "[encoded data removed]",
      "text/plain": [
       "<Figure size 1000x600 with 1 Axes>"
      ]
     },
     "metadata": {},
     "output_type": "display_data"
    }
   ],
   "source": [
    "import time\n",
    "import matplotlib.pyplot as plt\n",
    "\n",
    "def quadratic_example(lst):\n",
    "    n = len(lst)\n",
    "    operation_count = 0  # Initialize the counter for operations\n",
    "\n",
    "    for i in range(n):\n",
    "        for j in range(n):\n",
    "            # Each pass through the inner loop represents one basic operation\n",
    "            operation_count += 1\n",
    "\n",
    "    return operation_count\n",
    "\n",
    "# Function to measure the number of operations for different input sizes\n",
    "def measure_operations(input_sizes):\n",
    "    operation_counts = []\n",
    "\n",
    "    for size in input_sizes:\n",
    "        my_list = list(range(size))\n",
    "        operations = quadratic_example(my_list)\n",
    "        operation_counts.append(operations)\n",
    "\n",
    "    return operation_counts\n",
    "\n",
    "# Generate input sizes from 1 to 100 with steps of 10\n",
    "input_sizes = list(range(1, 101, 10))\n",
    "\n",
    "# Measure the number of operations for different input sizes\n",
    "operations_counts = measure_operations(input_sizes)\n",
    "\n",
    "# Plotting the results\n",
    "plt.figure(figsize=(10, 6))\n",
    "plt.plot(input_sizes, operations_counts, marker='o', linestyle='-', color='b')\n",
    "plt.title('Quadratic Time Complexity (O(n^2)) - Counting Operations')\n",
    "plt.xlabel('Input Size (n)')\n",
    "plt.ylabel('Number of Operations')\n",
    "plt.grid(True)\n",
    "plt.show()\n"
   ]
  },
  {
   "cell_type": "code",
   "execution_count": 29,
   "metadata": {},
   "outputs": [
    {
     "name": "stdout",
     "output_type": "stream",
     "text": [
      "0\n",
      "10\n",
      "00\n",
      "1\n",
      "100\n",
      "0\n"
     ]
    }
   ],
   "source": [
    "def intTostr(i):\n",
    "    digit = \"0123456789\"\n",
    "    if i == 0:\n",
    "        return 0\n",
    "    result = \"\"\n",
    "    while i > 0:\n",
    "       result = digit[i%10] + result\n",
    "       print(result)\n",
    "\n",
    "       i = i // 10\n",
    "       print(i)\n",
    "    return result\n",
    "\n",
    "print(intTostr(100))\n",
    "\n",
    "# input increases 10x and time complexity is increase one time\n",
    "# it's time complexity is =  O(log(i))"
   ]
  },
  {
   "cell_type": "code",
   "execution_count": 26,
   "metadata": {},
   "outputs": [
    {
     "data": {
      "image/png": "[encoded data removed]",
      "text/plain": [
       "<Figure size 1000x600 with 1 Axes>"
      ]
     },
     "metadata": {},
     "output_type": "display_data"
    }
   ],
   "source": [
    "import time\n",
    "import matplotlib.pyplot as plt\n",
    "\n",
    "def intTostr(i):\n",
    "    digit = \"0123456789\"\n",
    "    if i == 0:\n",
    "        return \"0\"\n",
    "    result = \"\"\n",
    "    while i > 0:\n",
    "        result = digit[i % 10] + result\n",
    "        i = i // 10\n",
    "    return result\n",
    "\n",
    "# Measure execution time for different input sizes\n",
    "input_sizes = [10**x for x in range(1, 7)]  # Varying input sizes (powers of 10)\n",
    "execution_times = []\n",
    "\n",
    "for size in input_sizes:\n",
    "    start_time = time.time()\n",
    "    intTostr(size)\n",
    "    end_time = time.time()\n",
    "    execution_times.append(end_time - start_time)\n",
    "\n",
    "# Plotting the results\n",
    "plt.figure(figsize=(10, 6))\n",
    "plt.plot(input_sizes, execution_times, marker='o', linestyle='-', color='b')\n",
    "plt.xscale('log')  # Set x-axis to logarithmic scale\n",
    "plt.title('Time Complexity: O(log(i))')\n",
    "plt.xlabel('Input Size (i)')\n",
    "plt.ylabel('Execution Time')\n",
    "plt.grid(True)\n",
    "plt.show()\n"
   ]
  },
  {
   "cell_type": "code",
   "execution_count": 9,
   "metadata": {},
   "outputs": [
    {
     "name": "stdout",
     "output_type": "stream",
     "text": [
      "1,2\n",
      "1,3\n",
      "1,4\n",
      "1,5\n",
      "2,3\n",
      "2,4\n",
      "2,5\n",
      "3,4\n",
      "3,5\n",
      "4,5\n"
     ]
    }
   ],
   "source": [
    "L = [1,2,3,4,5]\n",
    "\n",
    "for i in range(0, len(L)):\n",
    "    for j in range(i+1, len(L)):\n",
    "        print('{},{}'.format(L[i],L[j]))\n",
    "        #the time complexity of the provided code is O(n^2) due to the nested loops."
   ]
  },
  {
   "cell_type": "code",
   "execution_count": null,
   "metadata": {},
   "outputs": [],
   "source": [
    "A = [1,2,3,4]\n",
    "B = [2, 3,4,5,6]\n",
    "for i in A:\n",
    "    for j in B:\n",
    "        if i < j:\n",
    "            print('{},{}'.format(i,j))\n",
    "\n",
    "'''the overall time complexity is O(len(A) * len(B)), \n",
    "where len(A) is the length of list A and len(B) is the length of list B. \n",
    "In the worst case, the time complexity is O(n * m), where n is the length of A and m is the length of B.\n",
    "\n",
    "Note that if the lengths of A and B are not fixed and can vary independently, \n",
    "the time complexity would be expressed as O(len(A) * len(B)).'''"
   ]
  },
  {
   "cell_type": "code",
   "execution_count": null,
   "metadata": {},
   "outputs": [],
   "source": [
    "A = [1,2,3,4]\n",
    "B = [2, 3,4,5,6]\n",
    "for i in A: # time complexity is O(n)\n",
    "    for j in B:# time complexity is O(n)\n",
    "        for k in range(5): # time complexity is O(1), it is constant time operation\n",
    "            print('{},{},{}'.format(i,j,k))\n",
    "\n",
    "# so the time complexity is O(n**2)"
   ]
  },
  {
   "cell_type": "code",
   "execution_count": 7,
   "metadata": {},
   "outputs": [
    {
     "name": "stdout",
     "output_type": "stream",
     "text": [
      "temp 1\n",
      "--------------\n",
      "A[i] 5\n",
      "A[other] 5\n",
      "--------------\n",
      "A[other] 1\n",
      "temp 1\n",
      "[5, 2, 3, 4, 1]\n"
     ]
    }
   ],
   "source": [
    "A = [1,2,3,4,5]\n",
    "  #1.  0        0       2\n",
    "for i in range(0, len(A)//2):\n",
    "\n",
    "    #        5-0-1 = 4\n",
    "    other = len(A)-i-1\n",
    "   #         \n",
    "    temp = A[i] # 1\n",
    "    print(\"temp\", temp )\n",
    "\n",
    "    print(\"--------------\")\n",
    "\n",
    "    A[i] = A[other]\n",
    "    print(\"A[i]\", A[i])\n",
    "    print(\"A[other]\", A[other])\n",
    "\n",
    "\n",
    "    print(\"--------------\")\n",
    "    \n",
    "    A[other] = temp\n",
    "    print(\"A[other]\", A[other])\n",
    "    print(\"temp\", temp )\n",
    "print(A)"
   ]
  },
  {
   "cell_type": "code",
   "execution_count": 2,
   "metadata": {},
   "outputs": [
    {
     "name": "stdout",
     "output_type": "stream",
     "text": [
      "120\n"
     ]
    }
   ],
   "source": [
    "# Time Complexityy of recursive function\n",
    "\n",
    "def factorial(n):\n",
    "    if n == 1:\n",
    "        return 1\n",
    "    else: \n",
    "        return n * factorial(n-1)\n",
    "\n",
    "print(factorial(5))\n",
    "\n",
    "\"\"\"factorial(5) = 5 * factorial(4)\n",
    "              = 5 * (4 * factorial(3))\n",
    "              = 5 * (4 * (3 * factorial(2)))\n",
    "              = 5 * (4 * (3 * (2 * factorial(1))))\n",
    "              = 5 * (4 * (3 * (2 * 1)))\n",
    "              = 120\"\"\"\n",
    "\n"
   ]
  },
  {
   "cell_type": "code",
   "execution_count": 1,
   "metadata": {},
   "outputs": [
    {
     "data": {
      "text/plain": [
       "8"
      ]
     },
     "execution_count": 1,
     "metadata": {},
     "output_type": "execute_result"
    }
   ],
   "source": [
    "# Time Complexityy of recursive function\n",
    "def fib(n):\n",
    "    if n ==1 or n==0:\n",
    "        return 1\n",
    "    else: \n",
    "        return fib(n-1) + fib(n-2)\n",
    "    \n",
    "fib(5)"
   ]
  },
  {
   "cell_type": "code",
   "execution_count": 2,
   "metadata": {},
   "outputs": [
    {
     "name": "stdout",
     "output_type": "stream",
     "text": [
      "[0, 1, 1, 2, 3, 5]\n"
     ]
    }
   ],
   "source": [
    "# Time Complexityy of recursive function\n",
    "\n",
    "def fib(n):\n",
    "    if n == 0:\n",
    "        return [0]\n",
    "    elif n == 1:\n",
    "        return [0, 1]\n",
    "    else:\n",
    "        fib_list = fib(n - 1)\n",
    "        fib_list.append(fib_list[-1] + fib_list[-2])\n",
    "        return fib_list\n",
    "\n",
    "result = fib(5)\n",
    "print(result)"
   ]
  },
  {
   "cell_type": "code",
   "execution_count": null,
   "metadata": {},
   "outputs": [],
   "source": [
    "\"\"\"The time complexity of the recursive factorial function is O(n),\n",
    " where n is the input to the function. Let's break down the time complexity analysis:\n",
    "In each recursive call, the function performs a constant amount of work (comparisons \n",
    "and multiplications) before making the next recursive call. The number of recursive calls\n",
    " is directly proportional to the input size n\n",
    "\n",
    "For example, when calculating factorial(5), the function makes the following recursive calls:\n",
    "\n",
    "factorial(5)→factorial(4)→factorial(3)→factorial(2)→factorial(1)\n",
    "\n",
    "The number of recursive calls is n in this case. Therefore, the time complexity is linear, \n",
    "O(n), because the amount of work done scales linearly with the size of the input.\n",
    "\n",
    "It's worth noting that while the time complexity is linear, \n",
    "recursive algorithms may have additional space complexity due to the call stack. \n",
    "In this case, the space complexity is also O(n) because the maximum depth of the call stack \n",
    "is proportional to the input size n \"\"\""
   ]
  },
  {
   "cell_type": "code",
   "execution_count": 9,
   "metadata": {},
   "outputs": [
    {
     "name": "stdout",
     "output_type": "stream",
     "text": [
      "pr 1\n",
      "c 2\n",
      "pr 2\n",
      "c 4\n",
      "pr 4\n",
      "c 8\n",
      "pr 8\n",
      "c 16\n",
      "pr 16\n",
      "c 32\n",
      "pr 32\n",
      "c 64\n",
      "pr 64\n",
      "c 128\n"
     ]
    },
    {
     "data": {
      "text/plain": [
       "128"
      ]
     },
     "execution_count": 9,
     "metadata": {},
     "output_type": "execute_result"
    }
   ],
   "source": [
    "def power(num):\n",
    "    if num < 1:\n",
    "        return 0\n",
    "    elif num == 1:\n",
    "        return 1\n",
    "    else:\n",
    "        prev = power(num//2)\n",
    "        print(\"pr\", prev)\n",
    "        curr = prev*2\n",
    "        print(\"c\",curr)\n",
    "        return curr\n",
    "power(150)"
   ]
  },
  {
   "cell_type": "code",
   "execution_count": null,
   "metadata": {},
   "outputs": [],
   "source": [
    "\"\"\"The recursion continues until num becomes 1. At each level, \n",
    "the prev value is calculated and then doubled to get the curr value.\n",
    "\n",
    "Here's the breakdown of the levels:\n",
    "\n",
    "power(150)\n",
    "power(75)\n",
    "power(37)\n",
    "power(18)\n",
    "power(9)\n",
    "power(4)\n",
    "power(2)\n",
    "power(1)\n",
    "The number of levels is approximately log₂(150),\n",
    "and in each level, a constant amount of work is done.\n",
    "Therefore, the time complexity is O(log n) for the given power function.\n",
    "The print statements are included to show the intermediate values of prev\n",
    "and curr at each level in the recursion tree.\"\"\""
   ]
  },
  {
   "cell_type": "code",
   "execution_count": 11,
   "metadata": {},
   "outputs": [
    {
     "name": "stdout",
     "output_type": "stream",
     "text": [
      "15\n"
     ]
    }
   ],
   "source": [
    "def mod(a,b):\n",
    "    if a <= 0:\n",
    "        return -1\n",
    "    div = a//b\n",
    "    return a - div * 2\n",
    "\n",
    "print(mod(25,5))\n",
    "\n",
    "# O(1) , constant because no loop, no recursion"
   ]
  },
  {
   "cell_type": "code",
   "execution_count": 17,
   "metadata": {},
   "outputs": [
    {
     "data": {
      "text/plain": [
       "6.666666666666668"
      ]
     },
     "execution_count": 17,
     "metadata": {},
     "output_type": "execute_result"
    }
   ],
   "source": [
    "def sum_num(num):\n",
    "    sum = 0\n",
    "    while(num > 0):\n",
    "        sum+= num%10\n",
    "        num/= 10\n",
    "    return sum\n",
    "    \n",
    "sum_num(123)\n",
    "\n"
   ]
  },
  {
   "cell_type": "code",
   "execution_count": 20,
   "metadata": {},
   "outputs": [
    {
     "name": "stdout",
     "output_type": "stream",
     "text": [
      "ist input [1, 2, 3]\n",
      "element 3\n",
      "ist input [1, 2]\n",
      "element 2\n",
      "ist input [1]\n",
      "element 1\n",
      "ist input []\n",
      "prevpower [[]]\n",
      "prevpower [[], [1]]\n",
      "prevpower [[], [1], [2], [1, 2]]\n",
      "Input Set: {1, 2, 3}\n",
      "Power Set: [[], [1], [2], [1, 2], [3], [1, 3], [2, 3], [1, 2, 3]]\n"
     ]
    }
   ],
   "source": [
    "\n",
    "def generate_power_set(input_set):\n",
    "    print(\"ist input\", input_set)\n",
    "    if not input_set:\n",
    "        return [[]]  # The power set of an empty set is a set containing the empty set\n",
    "\n",
    "    element = input_set.pop()  # Remove the last element from the set\n",
    "    print(\"element\", element)\n",
    "    prev_power_set = generate_power_set(input_set)\n",
    "    print(\"prevpower\", prev_power_set)\n",
    "\n",
    "    # Combine the previous power set with the current element and its combinations\n",
    "    current_power_set = prev_power_set + [subset + [element] for subset in prev_power_set]\n",
    "\n",
    "    return current_power_set\n",
    "\n",
    "# Example usage:\n",
    "input_set = {1, 2, 3}\n",
    "result_power_set = generate_power_set(list(input_set))\n",
    "\n",
    "print(\"Input Set:\", input_set)\n",
    "print(\"Power Set:\", result_power_set)"
   ]
  }
 ],
 "metadata": {
  "kernelspec": {
   "display_name": "sql",
   "language": "python",
   "name": "python3"
  },
  "language_info": {
   "codemirror_mode": {
    "name": "ipython",
    "version": 3
   },
   "file_extension": ".py",
   "mimetype": "text/x-python",
   "name": "python",
   "nbconvert_exporter": "python",
   "pygments_lexer": "ipython3",
   "version": "3.12.0"
  }
 },
 "nbformat": 4,
 "nbformat_minor": 2
}
