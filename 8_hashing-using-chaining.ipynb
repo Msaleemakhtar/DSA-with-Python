{
 "cells": [
  {
   "cell_type": "markdown",
   "metadata": {},
   "source": [
    "## Hashing-using-chaining in Python DSA"
   ]
  },
  {
   "cell_type": "code",
   "execution_count": 12,
   "metadata": {},
   "outputs": [],
   "source": [
    "class Node:\n",
    "    \"\"\"Represents a node in a singly linked list.\n",
    "\n",
    "    Attributes:\n",
    "        key (int): The unique identifier of the node.\n",
    "        value (any): The data stored in the node.\n",
    "        next (Node, optional): A reference to the next node in the list. Defaults to None.\n",
    "    \"\"\"\n",
    "\n",
    "    def __init__(self, key, value):\n",
    "        \"\"\"Initializes a new Node object.\n",
    "\n",
    "        Args:\n",
    "            key (int): The unique identifier of the node.\n",
    "            value (any): The data stored in the node.\n",
    "        \"\"\"\n",
    "\n",
    "        # Assign key and value attributes to the node\n",
    "        self.key = key\n",
    "        self.value = value\n",
    "\n",
    "        # Initially, the next node points to None\n",
    "        self.next = None"
   ]
  },
  {
   "cell_type": "code",
   "execution_count": 13,
   "metadata": {},
   "outputs": [],
   "source": [
    "\n",
    "class LL:\n",
    "    def __init__(self):\n",
    "        \"\"\"\n",
    "        Initialize an empty Linked List.\n",
    "        \"\"\"\n",
    "        self.head = None\n",
    "\n",
    "    def add(self, key, value):\n",
    "        \"\"\"\n",
    "        Add a new node with the given key and value to the end of the linked list.\n",
    "\n",
    "        Parameters:\n",
    "        - key: The key of the new node.\n",
    "        - value: The value associated with the key.\n",
    "        \"\"\"\n",
    "        new_node = Node(key, value)\n",
    "\n",
    "        if self.head == None:\n",
    "            # If the linked list is empty, set the new node as the head.\n",
    "            self.head = new_node\n",
    "        else:\n",
    "            # Traverse to the end of the linked list and add the new node.\n",
    "            temp = self.head\n",
    "            while temp.next != None:\n",
    "                temp = temp.next\n",
    "            temp.next = new_node\n",
    "\n",
    "    def delete_head(self):\n",
    "        \"\"\"\n",
    "        Delete the head node of the linked list.\n",
    "        \"\"\"\n",
    "        if self.head == None:\n",
    "            return \"Empty\"\n",
    "        else:\n",
    "            # Move the head to the next node, effectively deleting the current head.\n",
    "            self.head = self.head.next\n",
    "\n",
    "    def remove(self, key):\n",
    "        \"\"\"\n",
    "        Remove the node with the given key from the linked list.\n",
    "\n",
    "        Parameters:\n",
    "        - key: The key of the node to be removed.\n",
    "        \"\"\"\n",
    "        if self.head.key == key:\n",
    "            # If the key is in the head node, delete the head.\n",
    "            self.delete_head()\n",
    "            return\n",
    "\n",
    "        if self.head == None:\n",
    "            return \"Empty\"\n",
    "        else:\n",
    "            # Traverse the linked list to find the node with the given key and remove it.\n",
    "            temp = self.head\n",
    "            while temp.next != None:\n",
    "                if temp.next.key == key:\n",
    "                    break\n",
    "                temp = temp.next\n",
    "\n",
    "            if temp.next == None:\n",
    "                return \"Not Found\"\n",
    "            else:\n",
    "                temp.next = temp.next.next\n",
    "\n",
    "    def traverse(self):\n",
    "        \"\"\"\n",
    "        Traverse the linked list and print the key-value pairs of each node.\n",
    "        \"\"\"\n",
    "        temp = self.head\n",
    "        while temp != None:\n",
    "            print(temp.key, \"-->\", temp.value, \" \", end=\" \")\n",
    "            temp = temp.next\n",
    "\n",
    "    def size(self):\n",
    "        \"\"\"\n",
    "        Calculate and return the size (number of nodes) of the linked list.\n",
    "        \"\"\"\n",
    "        temp = self.head\n",
    "        counter = 0\n",
    "        while temp != None:\n",
    "            counter += 1\n",
    "            temp = temp.next\n",
    "        return counter\n",
    "\n",
    "    def search(self, key):\n",
    "        \"\"\"\n",
    "        Search for a node with the given key in the linked list and return its position.\n",
    "\n",
    "        Parameters:\n",
    "        - key: The key to search for.\n",
    "\n",
    "        Returns:\n",
    "        - pos: The position of the node with the given key. Returns -1 if not found.\n",
    "        \"\"\"\n",
    "        temp = self.head\n",
    "        pos = 0\n",
    "        while temp != None:\n",
    "            if temp.key == key:\n",
    "                return pos\n",
    "            temp = temp.next\n",
    "            pos += 1\n",
    "        return -1\n",
    "\n",
    "    def get_node_at_index(self, index):\n",
    "        \"\"\"\n",
    "        Get the node at the specified index in the linked list.\n",
    "\n",
    "        Parameters:\n",
    "        - index: The index of the desired node.\n",
    "\n",
    "        Returns:\n",
    "        - temp: The node at the specified index.\n",
    "        \"\"\"\n",
    "        temp = self.head\n",
    "        counter = 0\n",
    "        while temp is not None:\n",
    "            if counter == index:\n",
    "                return temp\n",
    "            temp = temp.next\n",
    "            counter += 1\n"
   ]
  },
  {
   "cell_type": "code",
   "execution_count": 68,
   "metadata": {},
   "outputs": [],
   "source": [
    "class Dictionary:\n",
    "    def __init__(self, capacity):\n",
    "        # size of the array\n",
    "        self.capacity = capacity\n",
    "        # how many (key & value) pairs are in dictionary\n",
    "        self.size = 0\n",
    "        # created an array of linked list\n",
    "        self.buckets = self.make_array(self.capacity)\n",
    "        \n",
    "    \n",
    "    def make_array(self, capacity):\n",
    "        \n",
    "        L = []\n",
    "\n",
    "        for i in range(capacity):\n",
    "            L.append(LL())\n",
    "        return L\n",
    "    \n",
    "    \n",
    "    # search item by key\n",
    "    def get(self, key):\n",
    "        bucket_index = self.hash_fubction(key)\n",
    "        res = self.buckets[bucket_index].search(key)\n",
    "        if res == -1:\n",
    "            return \"Item not found\"\n",
    "        else:\n",
    "            item = self.buckets[bucket_index].get_node_at_index(res)\n",
    "            return item.value\n",
    "\n",
    "\n",
    "    def put(self, key, value):\n",
    "        bucket_index = self.hash_fubction(key)\n",
    "        node_index = self.get_node_index(bucket_index, key)\n",
    "\n",
    "        if node_index == -1:\n",
    "            # insert key valu in in new node\n",
    "            self.buckets[bucket_index].add(key,value)\n",
    "            self.size+=1\n",
    "            # load factor is lambda , if the size of node increases from certain limits \n",
    "            load_factor = self.size/self.capacity\n",
    "            print(load_factor)\n",
    "\n",
    "            if load_factor >= 2:\n",
    "                self.rehash()\n",
    "        \n",
    "        else:\n",
    "            # update if node already exists\n",
    "            node = self.buckets[bucket_index].get_node_at_index(node_index)\n",
    "            node.value = value\n",
    "\n",
    "    # To find the index of node\n",
    "    def get_node_index(self, bucket_index, key):\n",
    "        node_index = self.buckets[bucket_index].search(key)\n",
    "        return node_index\n",
    "\n",
    "\n",
    "    def hash_fubction(self, key):\n",
    "        return abs(hash(key)) % self.capacity\n",
    "    \n",
    "    def rehash(self):\n",
    "        # increase the capacity\n",
    "        self.capacity = self.capacity * 2\n",
    "        # copy the old data \n",
    "        old_buckets = self.buckets\n",
    "        # set the size equal to zero\n",
    "        self.size = 0 \n",
    "        # create the new array with double the size\n",
    "        self.buckets = self.make_array(self.capacity)\n",
    "\n",
    "        for i in old_buckets:# traverse to the length of linked list array\n",
    "            # traverse into the linked list\n",
    "            for j in range(i.size()):\n",
    "                node = i.get_node_at_index(j)\n",
    "                key_item = node.key\n",
    "                value_item = node.value\n",
    "                self.put(key_item, value_item)\n",
    "\n",
    "\n",
    "    # setitem magic methed for brackets\n",
    "    def __setitem__(self, key, value):\n",
    "        return self.put(key, value)\n",
    "    \n",
    "    # magic methed for brackets\n",
    "    def __getitem__(self, key):\n",
    "        return self.get(key)\n",
    "    \n",
    "    \n",
    "    # delete the item by using key\n",
    "\n",
    "    def __delitem__(self, key):\n",
    "        bucket_index = self.hash_fubction(key)\n",
    "        self.buckets[bucket_index].remove(key)\n",
    "        print(\"Item deleted\")\n",
    "\n",
    "    # traverse\n",
    "    def __str__(self) -> str:\n",
    "        for i in self.buckets:\n",
    "            i.traverse()\n",
    "\n",
    "        return \"\"\n",
    "    \n",
    "    # length of dictionary\n",
    "    def __len__(self):\n",
    "        return self.size\n"
   ]
  },
  {
   "cell_type": "code",
   "execution_count": 69,
   "metadata": {},
   "outputs": [],
   "source": [
    "d =Dictionary(2)"
   ]
  },
  {
   "cell_type": "code",
   "execution_count": 72,
   "metadata": {},
   "outputs": [
    {
     "name": "stdout",
     "output_type": "stream",
     "text": [
      "1.5\n"
     ]
    }
   ],
   "source": [
    "d[\"python134\"] = 111"
   ]
  },
  {
   "cell_type": "code",
   "execution_count": 66,
   "metadata": {},
   "outputs": [
    {
     "data": {
      "text/plain": [
       "'Item not found'"
      ]
     },
     "execution_count": 66,
     "metadata": {},
     "output_type": "execute_result"
    }
   ],
   "source": [
    "d[\"python1\"]"
   ]
  },
  {
   "cell_type": "code",
   "execution_count": 53,
   "metadata": {},
   "outputs": [
    {
     "name": "stdout",
     "output_type": "stream",
     "text": [
      "Item deleted\n"
     ]
    }
   ],
   "source": [
    "del d[\"python1\"]"
   ]
  },
  {
   "cell_type": "code",
   "execution_count": 73,
   "metadata": {},
   "outputs": [
    {
     "name": "stdout",
     "output_type": "stream",
     "text": [
      "python1 --> 111   python13 --> 111   python134 --> 111   \n"
     ]
    }
   ],
   "source": [
    "print(d)"
   ]
  },
  {
   "cell_type": "code",
   "execution_count": 74,
   "metadata": {},
   "outputs": [
    {
     "data": {
      "text/plain": [
       "3"
      ]
     },
     "execution_count": 74,
     "metadata": {},
     "output_type": "execute_result"
    }
   ],
   "source": [
    "len(d)"
   ]
  }
 ],
 "metadata": {
  "kernelspec": {
   "display_name": "sql",
   "language": "python",
   "name": "python3"
  },
  "language_info": {
   "codemirror_mode": {
    "name": "ipython",
    "version": 3
   },
   "file_extension": ".py",
   "mimetype": "text/x-python",
   "name": "python",
   "nbconvert_exporter": "python",
   "pygments_lexer": "ipython3",
   "version": "3.12.0"
  }
 },
 "nbformat": 4,
 "nbformat_minor": 2
}
